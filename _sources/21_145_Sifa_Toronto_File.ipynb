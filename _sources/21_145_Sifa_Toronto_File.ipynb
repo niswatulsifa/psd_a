{
  "nbformat": 4,
  "nbformat_minor": 0,
  "metadata": {
    "colab": {
      "provenance": []
    },
    "kernelspec": {
      "name": "python3",
      "display_name": "Python 3"
    },
    "language_info": {
      "name": "python"
    }
  },
  "cells": [
    {
      "cell_type": "code",
      "execution_count": 1,
      "metadata": {
        "colab": {
          "base_uri": "https://localhost:8080/"
        },
        "id": "k8-hwGUJyDsV",
        "outputId": "18af45a7-03d2-4d75-d754-bec14a5c9689"
      },
      "outputs": [
        {
          "output_type": "stream",
          "name": "stdout",
          "text": [
            "Mounted at /content/drive\n",
            "/content/drive/MyDrive/PSD/TORONTO FILE\n"
          ]
        }
      ],
      "source": [
        "from google.colab import drive\n",
        "drive.mount('/content/drive')\n",
        "%cd /content/drive/MyDrive/PSD/TORONTO FILE"
      ]
    },
    {
      "cell_type": "code",
      "source": [
        "%%capture\n",
        "pip install librosa"
      ],
      "metadata": {
        "id": "Qe2o42l4yZUq"
      },
      "execution_count": 4,
      "outputs": []
    },
    {
      "cell_type": "code",
      "source": [
        "# Import Library\n",
        "\n",
        "import os\n",
        "import librosa\n",
        "import numpy as np\n",
        "import pandas as pd\n",
        "from scipy.stats import skew, kurtosis, mode"
      ],
      "metadata": {
        "id": "ogZeQ2GVylCP"
      },
      "execution_count": 12,
      "outputs": []
    },
    {
      "cell_type": "markdown",
      "source": [
        "# **PEMROSESAN DATA**"
      ],
      "metadata": {
        "id": "ViCaRZYhy0xn"
      }
    },
    {
      "cell_type": "markdown",
      "source": [
        "## Deskripsi Data"
      ],
      "metadata": {
        "id": "aBFKOPIVy7bc"
      }
    },
    {
      "cell_type": "markdown",
      "source": [
        "Dataset ini untuk melatih klasifikasi emosi (7 emosi utama) dalam audio. Ada satu set 200 kata target yang diucapkan dalam frasa pembawa \"Say the word _' oleh dua aktris (berusia 26 dan 64 tahun) dan rekaman dibuat dari set tersebut yang menggambarkan masing-masing tujuh emosi (marah, jijik, takut, bahagia, kejutan menyenangkan, kesedihan, dan netral). Total ada 2800 data (file audio).\n",
        "\n",
        "Dataset tersebut disusun sedemikian rupa sehingga masing-masing dari dua aktor wanita dan emosi mereka terkandung dalam foldernya sendiri. Dan di dalamnya, semua file audio 200 kata target dapat ditemukan. Format file audio adalah format WAV"
      ],
      "metadata": {
        "id": "vLqHw8S12DqE"
      }
    },
    {
      "cell_type": "code",
      "source": [
        "# Daftar folder yang akan dianalisis\n",
        "folders = [\n",
        "    'OAF_angry', 'OAF_disgust', 'OAF_Fear', 'OAF_happy', 'OAF_neutral', 'OAF_Pleasant_surprise', 'OAF_Sad', 'YAF_angry', 'YAF_disgust', 'YAF_fear', 'YAF_happy', 'YAF_neutral', 'YAF_pleasant_surprised', 'YAF_sad'\n",
        "]"
      ],
      "metadata": {
        "id": "gdMsgXQGyyfL"
      },
      "execution_count": 6,
      "outputs": []
    },
    {
      "cell_type": "markdown",
      "source": [
        "### **Menghitung Beberapa Statistik dari Sinyal Audio yang diberikan**"
      ],
      "metadata": {
        "id": "EUo-zL8e2L5m"
      }
    },
    {
      "cell_type": "markdown",
      "source": [
        "**Rumus-rumus dari hasil Ekstraksi Fitur Audio**\n",
        "\n",
        "1.  Mean (Rata-rata)\n",
        "\n",
        "  Rata-rata adalah nilai tengah dari suatu set data. Ini dihitung dengan menjumlahkan semua nilai dalam dataset dan kemudian membaginya dengan jumlah total data.\n",
        "\n",
        "  $\\text{{Mean}} = \\frac{1}{n} \\sum_{i=1}^{n} y_i$\n",
        "\n",
        "2.  Standard Deviation (Deviasi Standar)\n",
        "\n",
        "  Deviasi standar mengukur seberapa tersebar atau jauh nilai-nilai individu dalam dataset dari nilai rata-ratanya.\n",
        "\n",
        "  $\\text{{Standard Deviation}} = \\sqrt{\\frac{1}{n} \\sum_{i=1}^{n} (y_i - \\text{{Mean}})^2}$\n",
        "\n",
        "3. Median\n",
        "\n",
        "  Median adalah nilai tengah dari suatu set data yang telah diurutkan. Jika jumlah elemen dalam dataset ganjil, median adalah nilai di tengah. Jika genap, median adalah rata-rata dari dua nilai tengah.\n",
        "\n",
        "  $\\text{{Median}} = \\begin{cases}\n",
        "      y_{(\\frac{n}{2})} & \\text{{if }} n \\text{{ is odd}} \\\\\n",
        "      \\frac{1}{2} (y_{(\\frac{n}{2})} + y_{(\\frac{n}{2} + 1)}) & \\text{{if }} n \\text{{ is even}}\n",
        "   \\end{cases}$\n",
        "\n",
        "4. Skewness\n",
        "\n",
        "  Skewness mengukur sejauh mana distribusi data miring dari simetri. Nilai skewness positif menunjukkan ekor distribusi yang lebih panjang di sebelah kanan, sedangkan nilai negatif menunjukkan ekor distribusi yang lebih panjang di sebelah kiri.\n",
        "\n",
        "  $\\text{{Skewness}} = \\frac{\\frac{1}{n} \\sum_{i=1}^{n} (y_i - \\text{{Mean}})^3}{\\left(\\frac{1}{n} \\sum_{i=1}^{n} (y_i - \\text{{Mean}})^2\\right)^{3/2}}$\n",
        "\n",
        "5. Kurtosis\n",
        "\n",
        "  Kurtosis mengukur tingkat kecuraman (tumpukan atau landasan) distribusi data. Kurtosis tinggi menunjukkan distribusi yang lebih fokus di sekitar rata-rata, sementara kurtosis rendah menunjukkan distribusi yang lebih datar. Kurtosis dibandingkan dengan kurtosis distribusi normal standar yang memiliki nilai 3.\n",
        "\n",
        "  $\\text{{Kurtosis}} = \\frac{\\frac{1}{n} \\sum_{i=1}^{n} (y_i - \\text{{Mean}})^4}{\\left(\\frac{1}{n} \\sum_{i=1}^{n} (y_i - \\text{{Mean}})^2\\right)^2} - 3$\n"
      ],
      "metadata": {
        "id": "DKqgp89X2ZsP"
      }
    },
    {
      "cell_type": "markdown",
      "source": [
        "1. Zero Crossing Rate (ZCR):\n",
        "\n",
        "  Definisi: Nilai ini mengukur seberapa sering sinyal melintasi nilai nol per detik.\n",
        "\n",
        "  **Rumus:**\n",
        "  \n",
        "  * zcr_mean: Nilai rata-rata ZCR.\n",
        "  * zcr_median: Nilai median ZCR.\n",
        "  * zcr_std_dev: Deviasi standar dari ZCR.\n",
        "  * zcr_kurtosis: Kurtosis dari distribusi ZCR.\n",
        "  * zcr_skew: Skewness dari distribusi ZCR.\n",
        "  \n",
        "2. Root Mean Square Error (RMSE):\n",
        "\n",
        "  Definisi: RMSE mengukur rata-rata perbedaan antara nilai aktual dan nilai yang diprediksi (dalam hal ini, amplitudo sinyal audio).\n",
        "\n",
        "  **Rumus:**\n",
        "\n",
        "  * rmse: Nilai RMSE dari sinyal.\n",
        "  * rmse_median: Nilai median dari RMSE.\n",
        "  * rmse_std_dev: Deviasi standar dari RMSE.\n",
        "  * rmse_kurtosis: Kurtosis dari distribusi RMSE.\n",
        "  * rmse_skew: Skewness dari distribusi RMSE."
      ],
      "metadata": {
        "id": "puhfqugw2hlk"
      }
    },
    {
      "cell_type": "code",
      "source": [
        "def calculate_statistics(audio_path):\n",
        "    y, sr = librosa.load(audio_path)\n",
        "\n",
        "    # UNTUK MENGHITUNG NILAI ZCR\n",
        "    zcr_mean = np.mean(librosa.feature.zero_crossing_rate(y=y))\n",
        "    zcr_median = np.median(librosa.feature.zero_crossing_rate(y=y))\n",
        "    zcr_std_dev = np.std(librosa.feature.zero_crossing_rate(y=y))\n",
        "    zcr_kurtosis = kurtosis(librosa.feature.zero_crossing_rate(y=y)[0])\n",
        "    zcr_skew = skew(librosa.feature.zero_crossing_rate(y=y)[0])\n",
        "\n",
        "    # UNTUK MENGHITUNG NILAI RMSE\n",
        "    rmse = np.sum(y**2) / len(y)\n",
        "    rmse_median = np.median(y**2)\n",
        "    rmse_std_dev = np.std(y**2)\n",
        "    rmse_kurtosis = kurtosis(y**2)\n",
        "    rmse_skew = skew(y**2)\n",
        "\n",
        "    return [zcr_mean, zcr_median, zcr_std_dev, zcr_kurtosis, zcr_skew, rmse, rmse_median, rmse_std_dev, rmse_kurtosis, rmse_skew]"
      ],
      "metadata": {
        "id": "rMWt29knzHh5"
      },
      "execution_count": 8,
      "outputs": []
    },
    {
      "cell_type": "code",
      "source": [
        "# Membuat DataFrame untuk menyimpan hasil\n",
        "data = []"
      ],
      "metadata": {
        "id": "tRpXwA-RzVI2"
      },
      "execution_count": 9,
      "outputs": []
    },
    {
      "cell_type": "code",
      "source": [
        "# Loop melalui setiap folder dan file audio\n",
        "for folder in folders:\n",
        "    folder_path = f'{folder}'\n",
        "    for filename in os.listdir(folder_path):\n",
        "        if filename.endswith('.wav'):\n",
        "            audio_path = os.path.join(folder_path, filename)\n",
        "            statistics = calculate_statistics(audio_path)\n",
        "            data.append([folder, filename] + statistics)"
      ],
      "metadata": {
        "id": "5yKCjQcLzwQg"
      },
      "execution_count": 10,
      "outputs": []
    },
    {
      "cell_type": "code",
      "source": [
        "# Membuat DataFrame dari data\n",
        "columns =  ['Label', 'File'] + ['ZCR Mean', 'ZCR Median', 'ZCR Std Dev', 'ZCR Kurtosis', 'ZCR Skew', 'RMSE', 'RMSE Median', 'RMSE Std Dev', 'RMSE Kurtosis', 'RMSE Skew']\n",
        "df = pd.DataFrame(data, columns=columns)"
      ],
      "metadata": {
        "id": "lmVS2fo_zzI1"
      },
      "execution_count": 14,
      "outputs": []
    },
    {
      "cell_type": "code",
      "source": [
        "# Menyimpan DataFrame ke dalam file CSV\n",
        "df.to_csv('statistik_audio.csv', index=False)"
      ],
      "metadata": {
        "id": "UXPGyu0V0E7C"
      },
      "execution_count": 15,
      "outputs": []
    },
    {
      "cell_type": "code",
      "source": [
        "# Menampilkan file CSV\n",
        "df"
      ],
      "metadata": {
        "colab": {
          "base_uri": "https://localhost:8080/",
          "height": 441
        },
        "id": "Xf-RbNaS0X9p",
        "outputId": "f2e74da4-3f71-4fe0-aa4b-9529f49da48c"
      },
      "execution_count": 16,
      "outputs": [
        {
          "output_type": "execute_result",
          "data": {
            "text/plain": [
              "          Label                 File  ZCR Mean  ZCR Median  ZCR Std Dev  \\\n",
              "0     OAF_angry   OAF_haze_angry.wav  0.088925    0.057861     0.076363   \n",
              "1     OAF_angry   OAF_chat_angry.wav  0.106949    0.078613     0.094167   \n",
              "2     OAF_angry  OAF_chain_angry.wav  0.109226    0.052734     0.117271   \n",
              "3     OAF_angry  OAF_goose_angry.wav  0.118253    0.063721     0.115183   \n",
              "4     OAF_angry   OAF_laud_angry.wav  0.087633    0.057617     0.098755   \n",
              "...         ...                  ...       ...         ...          ...   \n",
              "2814    YAF_sad    YAF_voice_sad.wav  0.197648    0.054688     0.261351   \n",
              "2815    YAF_sad    YAF_pearl_sad.wav  0.112969    0.026855     0.211074   \n",
              "2816    YAF_sad    YAF_shack_sad.wav  0.157730    0.039062     0.215866   \n",
              "2817    YAF_sad    YAF_shawl_sad.wav  0.154858    0.038330     0.220376   \n",
              "2818    YAF_sad     YAF_sail_sad.wav  0.186529    0.036865     0.264869   \n",
              "\n",
              "      ZCR Kurtosis  ZCR Skew      RMSE  RMSE Median  RMSE Std Dev  \\\n",
              "0         2.578202  1.795895  0.001001     0.000080      0.002729   \n",
              "1         2.414703  1.814177  0.000954     0.000125      0.002312   \n",
              "2         2.233586  1.804295  0.003233     0.000192      0.007497   \n",
              "3         0.928318  1.495333  0.001733     0.000119      0.004727   \n",
              "4         6.797438  2.719129  0.001401     0.000236      0.002905   \n",
              "...            ...       ...       ...          ...           ...   \n",
              "2814     -0.085103  1.283249  0.001513     0.000191      0.003156   \n",
              "2815      4.514809  2.463884  0.001323     0.000309      0.002921   \n",
              "2816      1.586849  1.679327  0.001849     0.000383      0.003741   \n",
              "2817      1.509823  1.694042  0.001454     0.000397      0.002913   \n",
              "2818      0.023321  1.324939  0.001163     0.000306      0.002284   \n",
              "\n",
              "      RMSE Kurtosis  RMSE Skew  \n",
              "0         55.999886   6.088586  \n",
              "1         34.864765   5.029483  \n",
              "2         16.470234   3.649717  \n",
              "3         31.237054   5.047650  \n",
              "4         30.049867   4.333659  \n",
              "...             ...        ...  \n",
              "2814      17.681585   3.721640  \n",
              "2815      34.923053   5.113679  \n",
              "2816      17.705001   3.776787  \n",
              "2817      20.201689   3.995825  \n",
              "2818      19.116621   3.816939  \n",
              "\n",
              "[2819 rows x 12 columns]"
            ],
            "text/html": [
              "\n",
              "  <div id=\"df-0167a2a3-f4f5-4b34-bfdc-e65fd1a8e31d\" class=\"colab-df-container\">\n",
              "    <div>\n",
              "<style scoped>\n",
              "    .dataframe tbody tr th:only-of-type {\n",
              "        vertical-align: middle;\n",
              "    }\n",
              "\n",
              "    .dataframe tbody tr th {\n",
              "        vertical-align: top;\n",
              "    }\n",
              "\n",
              "    .dataframe thead th {\n",
              "        text-align: right;\n",
              "    }\n",
              "</style>\n",
              "<table border=\"1\" class=\"dataframe\">\n",
              "  <thead>\n",
              "    <tr style=\"text-align: right;\">\n",
              "      <th></th>\n",
              "      <th>Label</th>\n",
              "      <th>File</th>\n",
              "      <th>ZCR Mean</th>\n",
              "      <th>ZCR Median</th>\n",
              "      <th>ZCR Std Dev</th>\n",
              "      <th>ZCR Kurtosis</th>\n",
              "      <th>ZCR Skew</th>\n",
              "      <th>RMSE</th>\n",
              "      <th>RMSE Median</th>\n",
              "      <th>RMSE Std Dev</th>\n",
              "      <th>RMSE Kurtosis</th>\n",
              "      <th>RMSE Skew</th>\n",
              "    </tr>\n",
              "  </thead>\n",
              "  <tbody>\n",
              "    <tr>\n",
              "      <th>0</th>\n",
              "      <td>OAF_angry</td>\n",
              "      <td>OAF_haze_angry.wav</td>\n",
              "      <td>0.088925</td>\n",
              "      <td>0.057861</td>\n",
              "      <td>0.076363</td>\n",
              "      <td>2.578202</td>\n",
              "      <td>1.795895</td>\n",
              "      <td>0.001001</td>\n",
              "      <td>0.000080</td>\n",
              "      <td>0.002729</td>\n",
              "      <td>55.999886</td>\n",
              "      <td>6.088586</td>\n",
              "    </tr>\n",
              "    <tr>\n",
              "      <th>1</th>\n",
              "      <td>OAF_angry</td>\n",
              "      <td>OAF_chat_angry.wav</td>\n",
              "      <td>0.106949</td>\n",
              "      <td>0.078613</td>\n",
              "      <td>0.094167</td>\n",
              "      <td>2.414703</td>\n",
              "      <td>1.814177</td>\n",
              "      <td>0.000954</td>\n",
              "      <td>0.000125</td>\n",
              "      <td>0.002312</td>\n",
              "      <td>34.864765</td>\n",
              "      <td>5.029483</td>\n",
              "    </tr>\n",
              "    <tr>\n",
              "      <th>2</th>\n",
              "      <td>OAF_angry</td>\n",
              "      <td>OAF_chain_angry.wav</td>\n",
              "      <td>0.109226</td>\n",
              "      <td>0.052734</td>\n",
              "      <td>0.117271</td>\n",
              "      <td>2.233586</td>\n",
              "      <td>1.804295</td>\n",
              "      <td>0.003233</td>\n",
              "      <td>0.000192</td>\n",
              "      <td>0.007497</td>\n",
              "      <td>16.470234</td>\n",
              "      <td>3.649717</td>\n",
              "    </tr>\n",
              "    <tr>\n",
              "      <th>3</th>\n",
              "      <td>OAF_angry</td>\n",
              "      <td>OAF_goose_angry.wav</td>\n",
              "      <td>0.118253</td>\n",
              "      <td>0.063721</td>\n",
              "      <td>0.115183</td>\n",
              "      <td>0.928318</td>\n",
              "      <td>1.495333</td>\n",
              "      <td>0.001733</td>\n",
              "      <td>0.000119</td>\n",
              "      <td>0.004727</td>\n",
              "      <td>31.237054</td>\n",
              "      <td>5.047650</td>\n",
              "    </tr>\n",
              "    <tr>\n",
              "      <th>4</th>\n",
              "      <td>OAF_angry</td>\n",
              "      <td>OAF_laud_angry.wav</td>\n",
              "      <td>0.087633</td>\n",
              "      <td>0.057617</td>\n",
              "      <td>0.098755</td>\n",
              "      <td>6.797438</td>\n",
              "      <td>2.719129</td>\n",
              "      <td>0.001401</td>\n",
              "      <td>0.000236</td>\n",
              "      <td>0.002905</td>\n",
              "      <td>30.049867</td>\n",
              "      <td>4.333659</td>\n",
              "    </tr>\n",
              "    <tr>\n",
              "      <th>...</th>\n",
              "      <td>...</td>\n",
              "      <td>...</td>\n",
              "      <td>...</td>\n",
              "      <td>...</td>\n",
              "      <td>...</td>\n",
              "      <td>...</td>\n",
              "      <td>...</td>\n",
              "      <td>...</td>\n",
              "      <td>...</td>\n",
              "      <td>...</td>\n",
              "      <td>...</td>\n",
              "      <td>...</td>\n",
              "    </tr>\n",
              "    <tr>\n",
              "      <th>2814</th>\n",
              "      <td>YAF_sad</td>\n",
              "      <td>YAF_voice_sad.wav</td>\n",
              "      <td>0.197648</td>\n",
              "      <td>0.054688</td>\n",
              "      <td>0.261351</td>\n",
              "      <td>-0.085103</td>\n",
              "      <td>1.283249</td>\n",
              "      <td>0.001513</td>\n",
              "      <td>0.000191</td>\n",
              "      <td>0.003156</td>\n",
              "      <td>17.681585</td>\n",
              "      <td>3.721640</td>\n",
              "    </tr>\n",
              "    <tr>\n",
              "      <th>2815</th>\n",
              "      <td>YAF_sad</td>\n",
              "      <td>YAF_pearl_sad.wav</td>\n",
              "      <td>0.112969</td>\n",
              "      <td>0.026855</td>\n",
              "      <td>0.211074</td>\n",
              "      <td>4.514809</td>\n",
              "      <td>2.463884</td>\n",
              "      <td>0.001323</td>\n",
              "      <td>0.000309</td>\n",
              "      <td>0.002921</td>\n",
              "      <td>34.923053</td>\n",
              "      <td>5.113679</td>\n",
              "    </tr>\n",
              "    <tr>\n",
              "      <th>2816</th>\n",
              "      <td>YAF_sad</td>\n",
              "      <td>YAF_shack_sad.wav</td>\n",
              "      <td>0.157730</td>\n",
              "      <td>0.039062</td>\n",
              "      <td>0.215866</td>\n",
              "      <td>1.586849</td>\n",
              "      <td>1.679327</td>\n",
              "      <td>0.001849</td>\n",
              "      <td>0.000383</td>\n",
              "      <td>0.003741</td>\n",
              "      <td>17.705001</td>\n",
              "      <td>3.776787</td>\n",
              "    </tr>\n",
              "    <tr>\n",
              "      <th>2817</th>\n",
              "      <td>YAF_sad</td>\n",
              "      <td>YAF_shawl_sad.wav</td>\n",
              "      <td>0.154858</td>\n",
              "      <td>0.038330</td>\n",
              "      <td>0.220376</td>\n",
              "      <td>1.509823</td>\n",
              "      <td>1.694042</td>\n",
              "      <td>0.001454</td>\n",
              "      <td>0.000397</td>\n",
              "      <td>0.002913</td>\n",
              "      <td>20.201689</td>\n",
              "      <td>3.995825</td>\n",
              "    </tr>\n",
              "    <tr>\n",
              "      <th>2818</th>\n",
              "      <td>YAF_sad</td>\n",
              "      <td>YAF_sail_sad.wav</td>\n",
              "      <td>0.186529</td>\n",
              "      <td>0.036865</td>\n",
              "      <td>0.264869</td>\n",
              "      <td>0.023321</td>\n",
              "      <td>1.324939</td>\n",
              "      <td>0.001163</td>\n",
              "      <td>0.000306</td>\n",
              "      <td>0.002284</td>\n",
              "      <td>19.116621</td>\n",
              "      <td>3.816939</td>\n",
              "    </tr>\n",
              "  </tbody>\n",
              "</table>\n",
              "<p>2819 rows × 12 columns</p>\n",
              "</div>\n",
              "    <div class=\"colab-df-buttons\">\n",
              "\n",
              "  <div class=\"colab-df-container\">\n",
              "    <button class=\"colab-df-convert\" onclick=\"convertToInteractive('df-0167a2a3-f4f5-4b34-bfdc-e65fd1a8e31d')\"\n",
              "            title=\"Convert this dataframe to an interactive table.\"\n",
              "            style=\"display:none;\">\n",
              "\n",
              "  <svg xmlns=\"http://www.w3.org/2000/svg\" height=\"24px\" viewBox=\"0 -960 960 960\">\n",
              "    <path d=\"M120-120v-720h720v720H120Zm60-500h600v-160H180v160Zm220 220h160v-160H400v160Zm0 220h160v-160H400v160ZM180-400h160v-160H180v160Zm440 0h160v-160H620v160ZM180-180h160v-160H180v160Zm440 0h160v-160H620v160Z\"/>\n",
              "  </svg>\n",
              "    </button>\n",
              "\n",
              "  <style>\n",
              "    .colab-df-container {\n",
              "      display:flex;\n",
              "      gap: 12px;\n",
              "    }\n",
              "\n",
              "    .colab-df-convert {\n",
              "      background-color: #E8F0FE;\n",
              "      border: none;\n",
              "      border-radius: 50%;\n",
              "      cursor: pointer;\n",
              "      display: none;\n",
              "      fill: #1967D2;\n",
              "      height: 32px;\n",
              "      padding: 0 0 0 0;\n",
              "      width: 32px;\n",
              "    }\n",
              "\n",
              "    .colab-df-convert:hover {\n",
              "      background-color: #E2EBFA;\n",
              "      box-shadow: 0px 1px 2px rgba(60, 64, 67, 0.3), 0px 1px 3px 1px rgba(60, 64, 67, 0.15);\n",
              "      fill: #174EA6;\n",
              "    }\n",
              "\n",
              "    .colab-df-buttons div {\n",
              "      margin-bottom: 4px;\n",
              "    }\n",
              "\n",
              "    [theme=dark] .colab-df-convert {\n",
              "      background-color: #3B4455;\n",
              "      fill: #D2E3FC;\n",
              "    }\n",
              "\n",
              "    [theme=dark] .colab-df-convert:hover {\n",
              "      background-color: #434B5C;\n",
              "      box-shadow: 0px 1px 3px 1px rgba(0, 0, 0, 0.15);\n",
              "      filter: drop-shadow(0px 1px 2px rgba(0, 0, 0, 0.3));\n",
              "      fill: #FFFFFF;\n",
              "    }\n",
              "  </style>\n",
              "\n",
              "    <script>\n",
              "      const buttonEl =\n",
              "        document.querySelector('#df-0167a2a3-f4f5-4b34-bfdc-e65fd1a8e31d button.colab-df-convert');\n",
              "      buttonEl.style.display =\n",
              "        google.colab.kernel.accessAllowed ? 'block' : 'none';\n",
              "\n",
              "      async function convertToInteractive(key) {\n",
              "        const element = document.querySelector('#df-0167a2a3-f4f5-4b34-bfdc-e65fd1a8e31d');\n",
              "        const dataTable =\n",
              "          await google.colab.kernel.invokeFunction('convertToInteractive',\n",
              "                                                    [key], {});\n",
              "        if (!dataTable) return;\n",
              "\n",
              "        const docLinkHtml = 'Like what you see? Visit the ' +\n",
              "          '<a target=\"_blank\" href=https://colab.research.google.com/notebooks/data_table.ipynb>data table notebook</a>'\n",
              "          + ' to learn more about interactive tables.';\n",
              "        element.innerHTML = '';\n",
              "        dataTable['output_type'] = 'display_data';\n",
              "        await google.colab.output.renderOutput(dataTable, element);\n",
              "        const docLink = document.createElement('div');\n",
              "        docLink.innerHTML = docLinkHtml;\n",
              "        element.appendChild(docLink);\n",
              "      }\n",
              "    </script>\n",
              "  </div>\n",
              "\n",
              "\n",
              "<div id=\"df-e44739b3-c2e4-41c7-9b57-730d551129a4\">\n",
              "  <button class=\"colab-df-quickchart\" onclick=\"quickchart('df-e44739b3-c2e4-41c7-9b57-730d551129a4')\"\n",
              "            title=\"Suggest charts\"\n",
              "            style=\"display:none;\">\n",
              "\n",
              "<svg xmlns=\"http://www.w3.org/2000/svg\" height=\"24px\"viewBox=\"0 0 24 24\"\n",
              "     width=\"24px\">\n",
              "    <g>\n",
              "        <path d=\"M19 3H5c-1.1 0-2 .9-2 2v14c0 1.1.9 2 2 2h14c1.1 0 2-.9 2-2V5c0-1.1-.9-2-2-2zM9 17H7v-7h2v7zm4 0h-2V7h2v10zm4 0h-2v-4h2v4z\"/>\n",
              "    </g>\n",
              "</svg>\n",
              "  </button>\n",
              "\n",
              "<style>\n",
              "  .colab-df-quickchart {\n",
              "      --bg-color: #E8F0FE;\n",
              "      --fill-color: #1967D2;\n",
              "      --hover-bg-color: #E2EBFA;\n",
              "      --hover-fill-color: #174EA6;\n",
              "      --disabled-fill-color: #AAA;\n",
              "      --disabled-bg-color: #DDD;\n",
              "  }\n",
              "\n",
              "  [theme=dark] .colab-df-quickchart {\n",
              "      --bg-color: #3B4455;\n",
              "      --fill-color: #D2E3FC;\n",
              "      --hover-bg-color: #434B5C;\n",
              "      --hover-fill-color: #FFFFFF;\n",
              "      --disabled-bg-color: #3B4455;\n",
              "      --disabled-fill-color: #666;\n",
              "  }\n",
              "\n",
              "  .colab-df-quickchart {\n",
              "    background-color: var(--bg-color);\n",
              "    border: none;\n",
              "    border-radius: 50%;\n",
              "    cursor: pointer;\n",
              "    display: none;\n",
              "    fill: var(--fill-color);\n",
              "    height: 32px;\n",
              "    padding: 0;\n",
              "    width: 32px;\n",
              "  }\n",
              "\n",
              "  .colab-df-quickchart:hover {\n",
              "    background-color: var(--hover-bg-color);\n",
              "    box-shadow: 0 1px 2px rgba(60, 64, 67, 0.3), 0 1px 3px 1px rgba(60, 64, 67, 0.15);\n",
              "    fill: var(--button-hover-fill-color);\n",
              "  }\n",
              "\n",
              "  .colab-df-quickchart-complete:disabled,\n",
              "  .colab-df-quickchart-complete:disabled:hover {\n",
              "    background-color: var(--disabled-bg-color);\n",
              "    fill: var(--disabled-fill-color);\n",
              "    box-shadow: none;\n",
              "  }\n",
              "\n",
              "  .colab-df-spinner {\n",
              "    border: 2px solid var(--fill-color);\n",
              "    border-color: transparent;\n",
              "    border-bottom-color: var(--fill-color);\n",
              "    animation:\n",
              "      spin 1s steps(1) infinite;\n",
              "  }\n",
              "\n",
              "  @keyframes spin {\n",
              "    0% {\n",
              "      border-color: transparent;\n",
              "      border-bottom-color: var(--fill-color);\n",
              "      border-left-color: var(--fill-color);\n",
              "    }\n",
              "    20% {\n",
              "      border-color: transparent;\n",
              "      border-left-color: var(--fill-color);\n",
              "      border-top-color: var(--fill-color);\n",
              "    }\n",
              "    30% {\n",
              "      border-color: transparent;\n",
              "      border-left-color: var(--fill-color);\n",
              "      border-top-color: var(--fill-color);\n",
              "      border-right-color: var(--fill-color);\n",
              "    }\n",
              "    40% {\n",
              "      border-color: transparent;\n",
              "      border-right-color: var(--fill-color);\n",
              "      border-top-color: var(--fill-color);\n",
              "    }\n",
              "    60% {\n",
              "      border-color: transparent;\n",
              "      border-right-color: var(--fill-color);\n",
              "    }\n",
              "    80% {\n",
              "      border-color: transparent;\n",
              "      border-right-color: var(--fill-color);\n",
              "      border-bottom-color: var(--fill-color);\n",
              "    }\n",
              "    90% {\n",
              "      border-color: transparent;\n",
              "      border-bottom-color: var(--fill-color);\n",
              "    }\n",
              "  }\n",
              "</style>\n",
              "\n",
              "  <script>\n",
              "    async function quickchart(key) {\n",
              "      const quickchartButtonEl =\n",
              "        document.querySelector('#' + key + ' button');\n",
              "      quickchartButtonEl.disabled = true;  // To prevent multiple clicks.\n",
              "      quickchartButtonEl.classList.add('colab-df-spinner');\n",
              "      try {\n",
              "        const charts = await google.colab.kernel.invokeFunction(\n",
              "            'suggestCharts', [key], {});\n",
              "      } catch (error) {\n",
              "        console.error('Error during call to suggestCharts:', error);\n",
              "      }\n",
              "      quickchartButtonEl.classList.remove('colab-df-spinner');\n",
              "      quickchartButtonEl.classList.add('colab-df-quickchart-complete');\n",
              "    }\n",
              "    (() => {\n",
              "      let quickchartButtonEl =\n",
              "        document.querySelector('#df-e44739b3-c2e4-41c7-9b57-730d551129a4 button');\n",
              "      quickchartButtonEl.style.display =\n",
              "        google.colab.kernel.accessAllowed ? 'block' : 'none';\n",
              "    })();\n",
              "  </script>\n",
              "</div>\n",
              "    </div>\n",
              "  </div>\n"
            ]
          },
          "metadata": {},
          "execution_count": 16
        }
      ]
    },
    {
      "cell_type": "markdown",
      "source": [
        "## **Penjelasan Label**"
      ],
      "metadata": {
        "id": "aD_FUHpQ2p7Q"
      }
    },
    {
      "cell_type": "markdown",
      "source": [
        "* 'OAF_angry': mencerminkan ekspresi wajah atau suara yang terkait dengan emosi marah dari pembicara OAF.\n",
        "*'OAF_disgust': mencerminkan ekspresi wajah atau suara yang terkait dengan emosi jijik atau muak dari pembicara OAF.\n",
        "*'OAF_Fear': mencerminkan ekspresi wajah atau suara yang terkait dengan emosi takut dari pembicara OAF.\n",
        "*'OAF_happy': mencerminkan ekspresi wajah atau suara yang terkait dengan emosi bahagia dari pembicara OAF.\n",
        "*'OAF_neutral': mencerminkan ekspresi wajah atau suara yang terkait dengan ekspresi wajah atau suara netral dari pembicara OAF.\n",
        "*'OAF_Pleasant_surprise': mencerminkan ekspresi wajah atau suara yang terkait dengan kejutan menyenangkan dari pembicara OAF.\n",
        "*'OAF_Sad': mencerminkan ekspresi wajah atau suara yang terkait dengan emosi sedih dari pembicara OAF.\n",
        "Untuk Pembicara YAF:\n",
        "*'YAF_angry': mencerminkan ekspresi wajah atau suara yang terkait dengan emosi marah dari pembicara YAF.\n",
        "*'YAF_disgust': mencerminkan ekspresi wajah atau suara yang terkait dengan emosi jijik atau muak dari pembicara YAF.\n",
        "*'YAF_fear': mencerminkan ekspresi wajah atau suara yang terkait dengan emosi takut dari pembicara YAF.\n",
        "*'YAF_happy': mencerminkan ekspresi wajah atau suara yang terkait dengan emosi bahagia dari pembicara YAF.\n",
        "*'YAF_neutral': mencerminkan ekspresi wajah atau suara yang terkait dengan ekspresi wajah atau suara netral dari pembicara YAF.\n",
        "*'YAF_Pleasant_surprise': mencerminkan ekspresi wajah atau suara yang terkait dengan kejutan menyenangkan dari pembicara YAF.\n",
        "*'YAF_sad': mencerminkan ekspresi wajah atau suara yang terkait dengan emosi sedih dari pembicara YAF."
      ],
      "metadata": {
        "id": "AgfaoDv_2uWV"
      }
    },
    {
      "cell_type": "markdown",
      "source": [
        "# **PREPROCESSING**"
      ],
      "metadata": {
        "id": "CR6zIRfe23Ov"
      }
    },
    {
      "cell_type": "markdown",
      "source": [
        "## **Normalisasi menggunakan Z-Score**"
      ],
      "metadata": {
        "id": "iGu4yRPz269B"
      }
    },
    {
      "cell_type": "markdown",
      "source": [
        "**Z-score** (Z-skor) adalah metode normalisasi yang mengubah data ke dalam distribusi normal standar dengan rata-rata (mean) 0 dan deviasi standar (standard deviation) 1.\n",
        "\n",
        "**StandardScaler** adalah alat yang digunakan untuk menerapkan metode Z-score ini ke data Anda. Dengan kata lain, StandardScaler adalah implementasi konkret dari normalisasi Z-score dalam scikit-learn.\n",
        "\n",
        "Rumus:\n",
        "\n",
        "$z = \\frac{{x - \\mu}}{{\\sigma}}$\n",
        "\n",
        "\n",
        "Penjelasan:\n",
        "\n",
        "*   Z adalah Z-score\n",
        "*   x adalah nilai individu\n",
        "*   μ adalah rata-rata dari data set\n",
        "*   σ adalah deviasi standar dari data set"
      ],
      "metadata": {
        "id": "sLHPUsU33CYI"
      }
    },
    {
      "cell_type": "markdown",
      "source": [
        "## **NORMALISASI SETELAH SPLIT DATA (normalisasi bisa dilakukan sebelum atau sesudah split data)**\n"
      ],
      "metadata": {
        "id": "yKugEqny3IUU"
      }
    },
    {
      "cell_type": "code",
      "source": [
        "from sklearn.model_selection import train_test_split\n",
        "from sklearn.preprocessing import StandardScaler\n",
        "from sklearn.neighbors import KNeighborsClassifier\n",
        "from pickle import dump"
      ],
      "metadata": {
        "id": "cLQpMhpA0byf"
      },
      "execution_count": 17,
      "outputs": []
    },
    {
      "cell_type": "code",
      "source": [
        "# Baca data dari file CSV\n",
        "dataknn= pd.read_csv('statistik_audio.csv')\n",
        "# Pisahkan fitur (X) dan label (y)\n",
        "X = dataknn.drop(['Label','File'], axis=1)  # Ganti 'target_column' dengan nama kolom target\n",
        "y = dataknn['Label']\n",
        "# split data into train and test sets\n",
        "X_train,X_test,y_train, y_test= train_test_split(X, y, random_state=1, test_size=0.2)\n",
        "# define scaler\n",
        "scaler = StandardScaler()\n",
        "# fit scaler on the training dataset\n",
        "scaler.fit(X_train)\n",
        "# save the scaler\n",
        "dump(scaler, open('scaler.pkl', 'wb'))\n",
        "# transform the training dataset\n",
        "# normalisasi data train\n",
        "X_train_scaled = scaler.transform(X_train)\n",
        "dataknn"
      ],
      "metadata": {
        "colab": {
          "base_uri": "https://localhost:8080/",
          "height": 441
        },
        "id": "c7GLAS0v0vIc",
        "outputId": "4dac49bf-de24-4b83-c17e-237d2a791703"
      },
      "execution_count": 18,
      "outputs": [
        {
          "output_type": "execute_result",
          "data": {
            "text/plain": [
              "          Label                 File  ZCR Mean  ZCR Median  ZCR Std Dev  \\\n",
              "0     OAF_angry   OAF_haze_angry.wav  0.088925    0.057861     0.076363   \n",
              "1     OAF_angry   OAF_chat_angry.wav  0.106949    0.078613     0.094167   \n",
              "2     OAF_angry  OAF_chain_angry.wav  0.109226    0.052734     0.117271   \n",
              "3     OAF_angry  OAF_goose_angry.wav  0.118253    0.063721     0.115183   \n",
              "4     OAF_angry   OAF_laud_angry.wav  0.087633    0.057617     0.098755   \n",
              "...         ...                  ...       ...         ...          ...   \n",
              "2814    YAF_sad    YAF_voice_sad.wav  0.197648    0.054688     0.261351   \n",
              "2815    YAF_sad    YAF_pearl_sad.wav  0.112969    0.026855     0.211074   \n",
              "2816    YAF_sad    YAF_shack_sad.wav  0.157730    0.039062     0.215866   \n",
              "2817    YAF_sad    YAF_shawl_sad.wav  0.154858    0.038330     0.220376   \n",
              "2818    YAF_sad     YAF_sail_sad.wav  0.186529    0.036865     0.264869   \n",
              "\n",
              "      ZCR Kurtosis  ZCR Skew      RMSE  RMSE Median  RMSE Std Dev  \\\n",
              "0         2.578202  1.795895  0.001001     0.000080      0.002729   \n",
              "1         2.414703  1.814177  0.000954     0.000125      0.002312   \n",
              "2         2.233586  1.804295  0.003233     0.000192      0.007497   \n",
              "3         0.928318  1.495333  0.001733     0.000119      0.004727   \n",
              "4         6.797438  2.719129  0.001401     0.000236      0.002905   \n",
              "...            ...       ...       ...          ...           ...   \n",
              "2814     -0.085103  1.283249  0.001513     0.000191      0.003156   \n",
              "2815      4.514809  2.463884  0.001323     0.000309      0.002921   \n",
              "2816      1.586849  1.679327  0.001849     0.000383      0.003741   \n",
              "2817      1.509823  1.694042  0.001454     0.000397      0.002913   \n",
              "2818      0.023321  1.324939  0.001163     0.000306      0.002284   \n",
              "\n",
              "      RMSE Kurtosis  RMSE Skew  \n",
              "0         55.999886   6.088586  \n",
              "1         34.864765   5.029483  \n",
              "2         16.470234   3.649717  \n",
              "3         31.237054   5.047650  \n",
              "4         30.049867   4.333659  \n",
              "...             ...        ...  \n",
              "2814      17.681585   3.721640  \n",
              "2815      34.923053   5.113679  \n",
              "2816      17.705001   3.776787  \n",
              "2817      20.201689   3.995825  \n",
              "2818      19.116621   3.816939  \n",
              "\n",
              "[2819 rows x 12 columns]"
            ],
            "text/html": [
              "\n",
              "  <div id=\"df-30ec7651-1a73-4619-8939-ddfcb6cf07ba\" class=\"colab-df-container\">\n",
              "    <div>\n",
              "<style scoped>\n",
              "    .dataframe tbody tr th:only-of-type {\n",
              "        vertical-align: middle;\n",
              "    }\n",
              "\n",
              "    .dataframe tbody tr th {\n",
              "        vertical-align: top;\n",
              "    }\n",
              "\n",
              "    .dataframe thead th {\n",
              "        text-align: right;\n",
              "    }\n",
              "</style>\n",
              "<table border=\"1\" class=\"dataframe\">\n",
              "  <thead>\n",
              "    <tr style=\"text-align: right;\">\n",
              "      <th></th>\n",
              "      <th>Label</th>\n",
              "      <th>File</th>\n",
              "      <th>ZCR Mean</th>\n",
              "      <th>ZCR Median</th>\n",
              "      <th>ZCR Std Dev</th>\n",
              "      <th>ZCR Kurtosis</th>\n",
              "      <th>ZCR Skew</th>\n",
              "      <th>RMSE</th>\n",
              "      <th>RMSE Median</th>\n",
              "      <th>RMSE Std Dev</th>\n",
              "      <th>RMSE Kurtosis</th>\n",
              "      <th>RMSE Skew</th>\n",
              "    </tr>\n",
              "  </thead>\n",
              "  <tbody>\n",
              "    <tr>\n",
              "      <th>0</th>\n",
              "      <td>OAF_angry</td>\n",
              "      <td>OAF_haze_angry.wav</td>\n",
              "      <td>0.088925</td>\n",
              "      <td>0.057861</td>\n",
              "      <td>0.076363</td>\n",
              "      <td>2.578202</td>\n",
              "      <td>1.795895</td>\n",
              "      <td>0.001001</td>\n",
              "      <td>0.000080</td>\n",
              "      <td>0.002729</td>\n",
              "      <td>55.999886</td>\n",
              "      <td>6.088586</td>\n",
              "    </tr>\n",
              "    <tr>\n",
              "      <th>1</th>\n",
              "      <td>OAF_angry</td>\n",
              "      <td>OAF_chat_angry.wav</td>\n",
              "      <td>0.106949</td>\n",
              "      <td>0.078613</td>\n",
              "      <td>0.094167</td>\n",
              "      <td>2.414703</td>\n",
              "      <td>1.814177</td>\n",
              "      <td>0.000954</td>\n",
              "      <td>0.000125</td>\n",
              "      <td>0.002312</td>\n",
              "      <td>34.864765</td>\n",
              "      <td>5.029483</td>\n",
              "    </tr>\n",
              "    <tr>\n",
              "      <th>2</th>\n",
              "      <td>OAF_angry</td>\n",
              "      <td>OAF_chain_angry.wav</td>\n",
              "      <td>0.109226</td>\n",
              "      <td>0.052734</td>\n",
              "      <td>0.117271</td>\n",
              "      <td>2.233586</td>\n",
              "      <td>1.804295</td>\n",
              "      <td>0.003233</td>\n",
              "      <td>0.000192</td>\n",
              "      <td>0.007497</td>\n",
              "      <td>16.470234</td>\n",
              "      <td>3.649717</td>\n",
              "    </tr>\n",
              "    <tr>\n",
              "      <th>3</th>\n",
              "      <td>OAF_angry</td>\n",
              "      <td>OAF_goose_angry.wav</td>\n",
              "      <td>0.118253</td>\n",
              "      <td>0.063721</td>\n",
              "      <td>0.115183</td>\n",
              "      <td>0.928318</td>\n",
              "      <td>1.495333</td>\n",
              "      <td>0.001733</td>\n",
              "      <td>0.000119</td>\n",
              "      <td>0.004727</td>\n",
              "      <td>31.237054</td>\n",
              "      <td>5.047650</td>\n",
              "    </tr>\n",
              "    <tr>\n",
              "      <th>4</th>\n",
              "      <td>OAF_angry</td>\n",
              "      <td>OAF_laud_angry.wav</td>\n",
              "      <td>0.087633</td>\n",
              "      <td>0.057617</td>\n",
              "      <td>0.098755</td>\n",
              "      <td>6.797438</td>\n",
              "      <td>2.719129</td>\n",
              "      <td>0.001401</td>\n",
              "      <td>0.000236</td>\n",
              "      <td>0.002905</td>\n",
              "      <td>30.049867</td>\n",
              "      <td>4.333659</td>\n",
              "    </tr>\n",
              "    <tr>\n",
              "      <th>...</th>\n",
              "      <td>...</td>\n",
              "      <td>...</td>\n",
              "      <td>...</td>\n",
              "      <td>...</td>\n",
              "      <td>...</td>\n",
              "      <td>...</td>\n",
              "      <td>...</td>\n",
              "      <td>...</td>\n",
              "      <td>...</td>\n",
              "      <td>...</td>\n",
              "      <td>...</td>\n",
              "      <td>...</td>\n",
              "    </tr>\n",
              "    <tr>\n",
              "      <th>2814</th>\n",
              "      <td>YAF_sad</td>\n",
              "      <td>YAF_voice_sad.wav</td>\n",
              "      <td>0.197648</td>\n",
              "      <td>0.054688</td>\n",
              "      <td>0.261351</td>\n",
              "      <td>-0.085103</td>\n",
              "      <td>1.283249</td>\n",
              "      <td>0.001513</td>\n",
              "      <td>0.000191</td>\n",
              "      <td>0.003156</td>\n",
              "      <td>17.681585</td>\n",
              "      <td>3.721640</td>\n",
              "    </tr>\n",
              "    <tr>\n",
              "      <th>2815</th>\n",
              "      <td>YAF_sad</td>\n",
              "      <td>YAF_pearl_sad.wav</td>\n",
              "      <td>0.112969</td>\n",
              "      <td>0.026855</td>\n",
              "      <td>0.211074</td>\n",
              "      <td>4.514809</td>\n",
              "      <td>2.463884</td>\n",
              "      <td>0.001323</td>\n",
              "      <td>0.000309</td>\n",
              "      <td>0.002921</td>\n",
              "      <td>34.923053</td>\n",
              "      <td>5.113679</td>\n",
              "    </tr>\n",
              "    <tr>\n",
              "      <th>2816</th>\n",
              "      <td>YAF_sad</td>\n",
              "      <td>YAF_shack_sad.wav</td>\n",
              "      <td>0.157730</td>\n",
              "      <td>0.039062</td>\n",
              "      <td>0.215866</td>\n",
              "      <td>1.586849</td>\n",
              "      <td>1.679327</td>\n",
              "      <td>0.001849</td>\n",
              "      <td>0.000383</td>\n",
              "      <td>0.003741</td>\n",
              "      <td>17.705001</td>\n",
              "      <td>3.776787</td>\n",
              "    </tr>\n",
              "    <tr>\n",
              "      <th>2817</th>\n",
              "      <td>YAF_sad</td>\n",
              "      <td>YAF_shawl_sad.wav</td>\n",
              "      <td>0.154858</td>\n",
              "      <td>0.038330</td>\n",
              "      <td>0.220376</td>\n",
              "      <td>1.509823</td>\n",
              "      <td>1.694042</td>\n",
              "      <td>0.001454</td>\n",
              "      <td>0.000397</td>\n",
              "      <td>0.002913</td>\n",
              "      <td>20.201689</td>\n",
              "      <td>3.995825</td>\n",
              "    </tr>\n",
              "    <tr>\n",
              "      <th>2818</th>\n",
              "      <td>YAF_sad</td>\n",
              "      <td>YAF_sail_sad.wav</td>\n",
              "      <td>0.186529</td>\n",
              "      <td>0.036865</td>\n",
              "      <td>0.264869</td>\n",
              "      <td>0.023321</td>\n",
              "      <td>1.324939</td>\n",
              "      <td>0.001163</td>\n",
              "      <td>0.000306</td>\n",
              "      <td>0.002284</td>\n",
              "      <td>19.116621</td>\n",
              "      <td>3.816939</td>\n",
              "    </tr>\n",
              "  </tbody>\n",
              "</table>\n",
              "<p>2819 rows × 12 columns</p>\n",
              "</div>\n",
              "    <div class=\"colab-df-buttons\">\n",
              "\n",
              "  <div class=\"colab-df-container\">\n",
              "    <button class=\"colab-df-convert\" onclick=\"convertToInteractive('df-30ec7651-1a73-4619-8939-ddfcb6cf07ba')\"\n",
              "            title=\"Convert this dataframe to an interactive table.\"\n",
              "            style=\"display:none;\">\n",
              "\n",
              "  <svg xmlns=\"http://www.w3.org/2000/svg\" height=\"24px\" viewBox=\"0 -960 960 960\">\n",
              "    <path d=\"M120-120v-720h720v720H120Zm60-500h600v-160H180v160Zm220 220h160v-160H400v160Zm0 220h160v-160H400v160ZM180-400h160v-160H180v160Zm440 0h160v-160H620v160ZM180-180h160v-160H180v160Zm440 0h160v-160H620v160Z\"/>\n",
              "  </svg>\n",
              "    </button>\n",
              "\n",
              "  <style>\n",
              "    .colab-df-container {\n",
              "      display:flex;\n",
              "      gap: 12px;\n",
              "    }\n",
              "\n",
              "    .colab-df-convert {\n",
              "      background-color: #E8F0FE;\n",
              "      border: none;\n",
              "      border-radius: 50%;\n",
              "      cursor: pointer;\n",
              "      display: none;\n",
              "      fill: #1967D2;\n",
              "      height: 32px;\n",
              "      padding: 0 0 0 0;\n",
              "      width: 32px;\n",
              "    }\n",
              "\n",
              "    .colab-df-convert:hover {\n",
              "      background-color: #E2EBFA;\n",
              "      box-shadow: 0px 1px 2px rgba(60, 64, 67, 0.3), 0px 1px 3px 1px rgba(60, 64, 67, 0.15);\n",
              "      fill: #174EA6;\n",
              "    }\n",
              "\n",
              "    .colab-df-buttons div {\n",
              "      margin-bottom: 4px;\n",
              "    }\n",
              "\n",
              "    [theme=dark] .colab-df-convert {\n",
              "      background-color: #3B4455;\n",
              "      fill: #D2E3FC;\n",
              "    }\n",
              "\n",
              "    [theme=dark] .colab-df-convert:hover {\n",
              "      background-color: #434B5C;\n",
              "      box-shadow: 0px 1px 3px 1px rgba(0, 0, 0, 0.15);\n",
              "      filter: drop-shadow(0px 1px 2px rgba(0, 0, 0, 0.3));\n",
              "      fill: #FFFFFF;\n",
              "    }\n",
              "  </style>\n",
              "\n",
              "    <script>\n",
              "      const buttonEl =\n",
              "        document.querySelector('#df-30ec7651-1a73-4619-8939-ddfcb6cf07ba button.colab-df-convert');\n",
              "      buttonEl.style.display =\n",
              "        google.colab.kernel.accessAllowed ? 'block' : 'none';\n",
              "\n",
              "      async function convertToInteractive(key) {\n",
              "        const element = document.querySelector('#df-30ec7651-1a73-4619-8939-ddfcb6cf07ba');\n",
              "        const dataTable =\n",
              "          await google.colab.kernel.invokeFunction('convertToInteractive',\n",
              "                                                    [key], {});\n",
              "        if (!dataTable) return;\n",
              "\n",
              "        const docLinkHtml = 'Like what you see? Visit the ' +\n",
              "          '<a target=\"_blank\" href=https://colab.research.google.com/notebooks/data_table.ipynb>data table notebook</a>'\n",
              "          + ' to learn more about interactive tables.';\n",
              "        element.innerHTML = '';\n",
              "        dataTable['output_type'] = 'display_data';\n",
              "        await google.colab.output.renderOutput(dataTable, element);\n",
              "        const docLink = document.createElement('div');\n",
              "        docLink.innerHTML = docLinkHtml;\n",
              "        element.appendChild(docLink);\n",
              "      }\n",
              "    </script>\n",
              "  </div>\n",
              "\n",
              "\n",
              "<div id=\"df-e9a3149b-e979-4c1f-8497-baab2ec36a83\">\n",
              "  <button class=\"colab-df-quickchart\" onclick=\"quickchart('df-e9a3149b-e979-4c1f-8497-baab2ec36a83')\"\n",
              "            title=\"Suggest charts\"\n",
              "            style=\"display:none;\">\n",
              "\n",
              "<svg xmlns=\"http://www.w3.org/2000/svg\" height=\"24px\"viewBox=\"0 0 24 24\"\n",
              "     width=\"24px\">\n",
              "    <g>\n",
              "        <path d=\"M19 3H5c-1.1 0-2 .9-2 2v14c0 1.1.9 2 2 2h14c1.1 0 2-.9 2-2V5c0-1.1-.9-2-2-2zM9 17H7v-7h2v7zm4 0h-2V7h2v10zm4 0h-2v-4h2v4z\"/>\n",
              "    </g>\n",
              "</svg>\n",
              "  </button>\n",
              "\n",
              "<style>\n",
              "  .colab-df-quickchart {\n",
              "      --bg-color: #E8F0FE;\n",
              "      --fill-color: #1967D2;\n",
              "      --hover-bg-color: #E2EBFA;\n",
              "      --hover-fill-color: #174EA6;\n",
              "      --disabled-fill-color: #AAA;\n",
              "      --disabled-bg-color: #DDD;\n",
              "  }\n",
              "\n",
              "  [theme=dark] .colab-df-quickchart {\n",
              "      --bg-color: #3B4455;\n",
              "      --fill-color: #D2E3FC;\n",
              "      --hover-bg-color: #434B5C;\n",
              "      --hover-fill-color: #FFFFFF;\n",
              "      --disabled-bg-color: #3B4455;\n",
              "      --disabled-fill-color: #666;\n",
              "  }\n",
              "\n",
              "  .colab-df-quickchart {\n",
              "    background-color: var(--bg-color);\n",
              "    border: none;\n",
              "    border-radius: 50%;\n",
              "    cursor: pointer;\n",
              "    display: none;\n",
              "    fill: var(--fill-color);\n",
              "    height: 32px;\n",
              "    padding: 0;\n",
              "    width: 32px;\n",
              "  }\n",
              "\n",
              "  .colab-df-quickchart:hover {\n",
              "    background-color: var(--hover-bg-color);\n",
              "    box-shadow: 0 1px 2px rgba(60, 64, 67, 0.3), 0 1px 3px 1px rgba(60, 64, 67, 0.15);\n",
              "    fill: var(--button-hover-fill-color);\n",
              "  }\n",
              "\n",
              "  .colab-df-quickchart-complete:disabled,\n",
              "  .colab-df-quickchart-complete:disabled:hover {\n",
              "    background-color: var(--disabled-bg-color);\n",
              "    fill: var(--disabled-fill-color);\n",
              "    box-shadow: none;\n",
              "  }\n",
              "\n",
              "  .colab-df-spinner {\n",
              "    border: 2px solid var(--fill-color);\n",
              "    border-color: transparent;\n",
              "    border-bottom-color: var(--fill-color);\n",
              "    animation:\n",
              "      spin 1s steps(1) infinite;\n",
              "  }\n",
              "\n",
              "  @keyframes spin {\n",
              "    0% {\n",
              "      border-color: transparent;\n",
              "      border-bottom-color: var(--fill-color);\n",
              "      border-left-color: var(--fill-color);\n",
              "    }\n",
              "    20% {\n",
              "      border-color: transparent;\n",
              "      border-left-color: var(--fill-color);\n",
              "      border-top-color: var(--fill-color);\n",
              "    }\n",
              "    30% {\n",
              "      border-color: transparent;\n",
              "      border-left-color: var(--fill-color);\n",
              "      border-top-color: var(--fill-color);\n",
              "      border-right-color: var(--fill-color);\n",
              "    }\n",
              "    40% {\n",
              "      border-color: transparent;\n",
              "      border-right-color: var(--fill-color);\n",
              "      border-top-color: var(--fill-color);\n",
              "    }\n",
              "    60% {\n",
              "      border-color: transparent;\n",
              "      border-right-color: var(--fill-color);\n",
              "    }\n",
              "    80% {\n",
              "      border-color: transparent;\n",
              "      border-right-color: var(--fill-color);\n",
              "      border-bottom-color: var(--fill-color);\n",
              "    }\n",
              "    90% {\n",
              "      border-color: transparent;\n",
              "      border-bottom-color: var(--fill-color);\n",
              "    }\n",
              "  }\n",
              "</style>\n",
              "\n",
              "  <script>\n",
              "    async function quickchart(key) {\n",
              "      const quickchartButtonEl =\n",
              "        document.querySelector('#' + key + ' button');\n",
              "      quickchartButtonEl.disabled = true;  // To prevent multiple clicks.\n",
              "      quickchartButtonEl.classList.add('colab-df-spinner');\n",
              "      try {\n",
              "        const charts = await google.colab.kernel.invokeFunction(\n",
              "            'suggestCharts', [key], {});\n",
              "      } catch (error) {\n",
              "        console.error('Error during call to suggestCharts:', error);\n",
              "      }\n",
              "      quickchartButtonEl.classList.remove('colab-df-spinner');\n",
              "      quickchartButtonEl.classList.add('colab-df-quickchart-complete');\n",
              "    }\n",
              "    (() => {\n",
              "      let quickchartButtonEl =\n",
              "        document.querySelector('#df-e9a3149b-e979-4c1f-8497-baab2ec36a83 button');\n",
              "      quickchartButtonEl.style.display =\n",
              "        google.colab.kernel.accessAllowed ? 'block' : 'none';\n",
              "    })();\n",
              "  </script>\n",
              "</div>\n",
              "    </div>\n",
              "  </div>\n"
            ]
          },
          "metadata": {},
          "execution_count": 18
        }
      ]
    },
    {
      "cell_type": "code",
      "source": [
        "X_test.shape"
      ],
      "metadata": {
        "colab": {
          "base_uri": "https://localhost:8080/"
        },
        "id": "7lr5f57206QM",
        "outputId": "fcf202e3-eab8-4091-c8d9-e84d9ad0c04e"
      },
      "execution_count": 19,
      "outputs": [
        {
          "output_type": "execute_result",
          "data": {
            "text/plain": [
              "(564, 10)"
            ]
          },
          "metadata": {},
          "execution_count": 19
        }
      ]
    },
    {
      "cell_type": "code",
      "source": [
        "X_train.shape"
      ],
      "metadata": {
        "colab": {
          "base_uri": "https://localhost:8080/"
        },
        "id": "cQLiPBOo0_3H",
        "outputId": "acb9b79e-a2b4-402d-d0a2-93a5e7d3e89c"
      },
      "execution_count": 20,
      "outputs": [
        {
          "output_type": "execute_result",
          "data": {
            "text/plain": [
              "(2255, 10)"
            ]
          },
          "metadata": {},
          "execution_count": 20
        }
      ]
    },
    {
      "cell_type": "code",
      "source": [
        "import pickle\n",
        "with open('scaler.pkl', 'rb') as standarisasi:\n",
        "    loadscal= pickle.load(standarisasi)"
      ],
      "metadata": {
        "id": "4mEfd7he1CS6"
      },
      "execution_count": 21,
      "outputs": []
    },
    {
      "cell_type": "code",
      "source": [
        "#normalisasi X testing dari hasil normalisasi X train yang disimpan dalam model\n",
        "X_test_scaled=loadscal.transform(X_test)"
      ],
      "metadata": {
        "id": "zNLR9Wdg1F8g"
      },
      "execution_count": 22,
      "outputs": []
    },
    {
      "cell_type": "markdown",
      "source": [
        "# **METODE KNN**"
      ],
      "metadata": {
        "id": "WtTnUPPg3MB6"
      }
    },
    {
      "cell_type": "markdown",
      "source": [
        "**K-Nearest Neighbors (KNN)** adalah algoritma pembelajaran mesin yang digunakan untuk tugas klasifikasi dan regresi. Algoritma ini merupakan salah satu metode pembelajaran mesin yang termasuk dalam kategori pembelajaran berbasis instan (instance-based learning) atau pembelajaran berbasis data.\n",
        "\n",
        "Klasifikasi dengan KNN:\n",
        "Dalam konteks klasifikasi, KNN bekerja dengan cara sebagai berikut:\n",
        "\n",
        "* Penentuan Tetangga Terdekat: Mengukur jarak antara data baru (poin uji) dengan semua titik data latih.\n",
        "* Pemilihan K Tetangga Terdekat: Memilih K tetangga terdekat dari data baru berdasarkan jarak.\n",
        "* Voting atau Weighted Voting: Menentukan label atau nilai target untuk data baru dengan melihat mayoritas kelas dari K tetangga terdekat. Dalam beberapa implementasi, bobot dapat diterapkan pada voting berdasarkan jarak.\n",
        "\n",
        "**Rumus:**\n",
        "\n",
        "$\\hat{y} = \\text{majority}(\\{y_i \\,|\\, (x_i, y_i) \\in \\text{k-nearest neighbors of } x\\})$\n"
      ],
      "metadata": {
        "id": "tlRQ2HQc3Q8J"
      }
    },
    {
      "cell_type": "code",
      "source": [
        "from sklearn.metrics import accuracy_score\n",
        "from sklearn.metrics import confusion_matrix"
      ],
      "metadata": {
        "id": "VL_iraDf1H_g"
      },
      "execution_count": 23,
      "outputs": []
    },
    {
      "cell_type": "code",
      "source": [
        "K = 50\n",
        "acc = np.zeros((K-1))\n",
        "\n",
        "for n in range(1,K,2):\n",
        "    knn = KNeighborsClassifier(n_neighbors= n, metric = \"euclidean\").fit(X_train_scaled, y_train)\n",
        "    y_pred = knn.predict(X_test_scaled)\n",
        "\n",
        "    acc[n-1]= accuracy_score(y_test,y_pred)\n",
        "\n",
        "print('akurasi terbaik adalah ', acc.max(), 'dengan nilai k =', acc.argmax()+1)"
      ],
      "metadata": {
        "colab": {
          "base_uri": "https://localhost:8080/"
        },
        "id": "K604AqU-1K5g",
        "outputId": "1df5518d-be63-4c81-b324-b511bace0a6d"
      },
      "execution_count": 24,
      "outputs": [
        {
          "output_type": "stream",
          "name": "stdout",
          "text": [
            "akurasi terbaik adalah  0.6985815602836879 dengan nilai k = 3\n"
          ]
        }
      ]
    },
    {
      "cell_type": "code",
      "source": [
        "knn = KNeighborsClassifier(n_neighbors= 7, metric = \"euclidean\")\n",
        "#dump(knn, open('modelknn.pkl', 'wb'))"
      ],
      "metadata": {
        "id": "-Ub5TAxL1NBr"
      },
      "execution_count": 25,
      "outputs": []
    },
    {
      "cell_type": "code",
      "source": [
        "#import pickle\n",
        "#with open('modelknn.pkl', 'rb') as knn:\n",
        "#    loadknn= pickle.load(knn)\n",
        "knn.fit(X_train_scaled, y_train)"
      ],
      "metadata": {
        "colab": {
          "base_uri": "https://localhost:8080/",
          "height": 75
        },
        "id": "H9j5iHqY1Q32",
        "outputId": "4d3a2cb2-5245-4696-f587-e9f10be79a74"
      },
      "execution_count": 27,
      "outputs": [
        {
          "output_type": "execute_result",
          "data": {
            "text/plain": [
              "KNeighborsClassifier(metric='euclidean', n_neighbors=7)"
            ],
            "text/html": [
              "<style>#sk-container-id-2 {color: black;background-color: white;}#sk-container-id-2 pre{padding: 0;}#sk-container-id-2 div.sk-toggleable {background-color: white;}#sk-container-id-2 label.sk-toggleable__label {cursor: pointer;display: block;width: 100%;margin-bottom: 0;padding: 0.3em;box-sizing: border-box;text-align: center;}#sk-container-id-2 label.sk-toggleable__label-arrow:before {content: \"▸\";float: left;margin-right: 0.25em;color: #696969;}#sk-container-id-2 label.sk-toggleable__label-arrow:hover:before {color: black;}#sk-container-id-2 div.sk-estimator:hover label.sk-toggleable__label-arrow:before {color: black;}#sk-container-id-2 div.sk-toggleable__content {max-height: 0;max-width: 0;overflow: hidden;text-align: left;background-color: #f0f8ff;}#sk-container-id-2 div.sk-toggleable__content pre {margin: 0.2em;color: black;border-radius: 0.25em;background-color: #f0f8ff;}#sk-container-id-2 input.sk-toggleable__control:checked~div.sk-toggleable__content {max-height: 200px;max-width: 100%;overflow: auto;}#sk-container-id-2 input.sk-toggleable__control:checked~label.sk-toggleable__label-arrow:before {content: \"▾\";}#sk-container-id-2 div.sk-estimator input.sk-toggleable__control:checked~label.sk-toggleable__label {background-color: #d4ebff;}#sk-container-id-2 div.sk-label input.sk-toggleable__control:checked~label.sk-toggleable__label {background-color: #d4ebff;}#sk-container-id-2 input.sk-hidden--visually {border: 0;clip: rect(1px 1px 1px 1px);clip: rect(1px, 1px, 1px, 1px);height: 1px;margin: -1px;overflow: hidden;padding: 0;position: absolute;width: 1px;}#sk-container-id-2 div.sk-estimator {font-family: monospace;background-color: #f0f8ff;border: 1px dotted black;border-radius: 0.25em;box-sizing: border-box;margin-bottom: 0.5em;}#sk-container-id-2 div.sk-estimator:hover {background-color: #d4ebff;}#sk-container-id-2 div.sk-parallel-item::after {content: \"\";width: 100%;border-bottom: 1px solid gray;flex-grow: 1;}#sk-container-id-2 div.sk-label:hover label.sk-toggleable__label {background-color: #d4ebff;}#sk-container-id-2 div.sk-serial::before {content: \"\";position: absolute;border-left: 1px solid gray;box-sizing: border-box;top: 0;bottom: 0;left: 50%;z-index: 0;}#sk-container-id-2 div.sk-serial {display: flex;flex-direction: column;align-items: center;background-color: white;padding-right: 0.2em;padding-left: 0.2em;position: relative;}#sk-container-id-2 div.sk-item {position: relative;z-index: 1;}#sk-container-id-2 div.sk-parallel {display: flex;align-items: stretch;justify-content: center;background-color: white;position: relative;}#sk-container-id-2 div.sk-item::before, #sk-container-id-2 div.sk-parallel-item::before {content: \"\";position: absolute;border-left: 1px solid gray;box-sizing: border-box;top: 0;bottom: 0;left: 50%;z-index: -1;}#sk-container-id-2 div.sk-parallel-item {display: flex;flex-direction: column;z-index: 1;position: relative;background-color: white;}#sk-container-id-2 div.sk-parallel-item:first-child::after {align-self: flex-end;width: 50%;}#sk-container-id-2 div.sk-parallel-item:last-child::after {align-self: flex-start;width: 50%;}#sk-container-id-2 div.sk-parallel-item:only-child::after {width: 0;}#sk-container-id-2 div.sk-dashed-wrapped {border: 1px dashed gray;margin: 0 0.4em 0.5em 0.4em;box-sizing: border-box;padding-bottom: 0.4em;background-color: white;}#sk-container-id-2 div.sk-label label {font-family: monospace;font-weight: bold;display: inline-block;line-height: 1.2em;}#sk-container-id-2 div.sk-label-container {text-align: center;}#sk-container-id-2 div.sk-container {/* jupyter's `normalize.less` sets `[hidden] { display: none; }` but bootstrap.min.css set `[hidden] { display: none !important; }` so we also need the `!important` here to be able to override the default hidden behavior on the sphinx rendered scikit-learn.org. See: https://github.com/scikit-learn/scikit-learn/issues/21755 */display: inline-block !important;position: relative;}#sk-container-id-2 div.sk-text-repr-fallback {display: none;}</style><div id=\"sk-container-id-2\" class=\"sk-top-container\"><div class=\"sk-text-repr-fallback\"><pre>KNeighborsClassifier(metric=&#x27;euclidean&#x27;, n_neighbors=7)</pre><b>In a Jupyter environment, please rerun this cell to show the HTML representation or trust the notebook. <br />On GitHub, the HTML representation is unable to render, please try loading this page with nbviewer.org.</b></div><div class=\"sk-container\" hidden><div class=\"sk-item\"><div class=\"sk-estimator sk-toggleable\"><input class=\"sk-toggleable__control sk-hidden--visually\" id=\"sk-estimator-id-2\" type=\"checkbox\" checked><label for=\"sk-estimator-id-2\" class=\"sk-toggleable__label sk-toggleable__label-arrow\">KNeighborsClassifier</label><div class=\"sk-toggleable__content\"><pre>KNeighborsClassifier(metric=&#x27;euclidean&#x27;, n_neighbors=7)</pre></div></div></div></div></div>"
            ]
          },
          "metadata": {},
          "execution_count": 27
        }
      ]
    },
    {
      "cell_type": "code",
      "source": [
        "y_pred = knn.predict(X_test_scaled)\n",
        "y_pred"
      ],
      "metadata": {
        "colab": {
          "base_uri": "https://localhost:8080/"
        },
        "id": "aKf5akEF1TQ4",
        "outputId": "ad685353-c62d-47fd-c221-4702b9c25c8e"
      },
      "execution_count": 28,
      "outputs": [
        {
          "output_type": "execute_result",
          "data": {
            "text/plain": [
              "array(['YAF_angry', 'YAF_pleasant_surprised', 'OAF_Pleasant_surprise',\n",
              "       'YAF_neutral', 'YAF_happy', 'YAF_sad', 'YAF_neutral',\n",
              "       'YAF_disgust', 'YAF_happy', 'OAF_Sad', 'OAF_angry', 'OAF_angry',\n",
              "       'OAF_neutral', 'YAF_angry', 'YAF_pleasant_surprised',\n",
              "       'YAF_pleasant_surprised', 'YAF_disgust', 'YAF_sad', 'OAF_Sad',\n",
              "       'YAF_neutral', 'OAF_neutral', 'YAF_sad', 'OAF_happy',\n",
              "       'YAF_disgust', 'OAF_disgust', 'YAF_happy', 'OAF_Pleasant_surprise',\n",
              "       'YAF_pleasant_surprised', 'OAF_neutral', 'OAF_angry',\n",
              "       'OAF_Pleasant_surprise', 'OAF_Fear', 'OAF_disgust', 'OAF_neutral',\n",
              "       'YAF_neutral', 'YAF_fear', 'YAF_pleasant_surprised', 'OAF_Fear',\n",
              "       'YAF_neutral', 'YAF_fear', 'OAF_Pleasant_surprise', 'YAF_disgust',\n",
              "       'YAF_neutral', 'YAF_pleasant_surprised', 'YAF_disgust',\n",
              "       'OAF_angry', 'OAF_disgust', 'YAF_neutral', 'YAF_happy', 'YAF_fear',\n",
              "       'YAF_disgust', 'YAF_happy', 'YAF_sad', 'YAF_angry', 'YAF_fear',\n",
              "       'OAF_Fear', 'YAF_disgust', 'OAF_Fear', 'YAF_fear', 'YAF_happy',\n",
              "       'YAF_angry', 'OAF_Fear', 'YAF_angry', 'YAF_sad',\n",
              "       'OAF_Pleasant_surprise', 'OAF_Fear', 'OAF_Fear', 'YAF_sad',\n",
              "       'OAF_Fear', 'OAF_Fear', 'YAF_pleasant_surprised', 'OAF_disgust',\n",
              "       'YAF_fear', 'OAF_disgust', 'OAF_happy', 'YAF_pleasant_surprised',\n",
              "       'YAF_fear', 'YAF_disgust', 'YAF_disgust', 'OAF_disgust',\n",
              "       'YAF_angry', 'OAF_disgust', 'YAF_sad', 'OAF_neutral', 'OAF_happy',\n",
              "       'OAF_disgust', 'OAF_neutral', 'YAF_neutral', 'YAF_fear', 'OAF_Sad',\n",
              "       'YAF_pleasant_surprised', 'OAF_Sad', 'YAF_angry', 'YAF_happy',\n",
              "       'YAF_neutral', 'OAF_Sad', 'YAF_angry', 'YAF_neutral', 'YAF_sad',\n",
              "       'YAF_pleasant_surprised', 'OAF_Sad', 'YAF_sad',\n",
              "       'YAF_pleasant_surprised', 'YAF_angry', 'YAF_disgust',\n",
              "       'YAF_neutral', 'YAF_happy', 'YAF_happy', 'OAF_angry',\n",
              "       'OAF_disgust', 'OAF_angry', 'OAF_Pleasant_surprise',\n",
              "       'YAF_pleasant_surprised', 'OAF_Pleasant_surprise', 'OAF_angry',\n",
              "       'YAF_pleasant_surprised', 'YAF_neutral', 'OAF_Fear', 'OAF_Fear',\n",
              "       'OAF_Sad', 'YAF_fear', 'OAF_happy', 'YAF_fear', 'OAF_disgust',\n",
              "       'OAF_Fear', 'YAF_happy', 'OAF_disgust', 'OAF_neutral',\n",
              "       'OAF_neutral', 'OAF_Fear', 'OAF_angry', 'YAF_neutral',\n",
              "       'YAF_pleasant_surprised', 'OAF_disgust', 'OAF_neutral',\n",
              "       'OAF_neutral', 'OAF_Sad', 'OAF_neutral', 'YAF_sad', 'YAF_neutral',\n",
              "       'OAF_happy', 'YAF_fear', 'OAF_Pleasant_surprise',\n",
              "       'YAF_pleasant_surprised', 'YAF_pleasant_surprised', 'YAF_disgust',\n",
              "       'OAF_disgust', 'OAF_neutral', 'OAF_Fear', 'OAF_Pleasant_surprise',\n",
              "       'YAF_happy', 'YAF_sad', 'YAF_disgust', 'OAF_Pleasant_surprise',\n",
              "       'OAF_angry', 'YAF_happy', 'OAF_Sad', 'YAF_pleasant_surprised',\n",
              "       'OAF_angry', 'YAF_fear', 'OAF_neutral', 'YAF_neutral',\n",
              "       'OAF_neutral', 'OAF_disgust', 'OAF_happy', 'OAF_neutral',\n",
              "       'YAF_happy', 'YAF_sad', 'YAF_happy', 'OAF_Fear', 'OAF_neutral',\n",
              "       'YAF_sad', 'YAF_neutral', 'YAF_disgust', 'OAF_Pleasant_surprise',\n",
              "       'OAF_Sad', 'OAF_Fear', 'OAF_happy', 'YAF_disgust', 'OAF_happy',\n",
              "       'OAF_Fear', 'OAF_angry', 'OAF_angry', 'YAF_sad', 'OAF_disgust',\n",
              "       'OAF_disgust', 'YAF_angry', 'YAF_happy', 'OAF_angry',\n",
              "       'OAF_neutral', 'YAF_neutral', 'OAF_Pleasant_surprise', 'OAF_Fear',\n",
              "       'OAF_disgust', 'OAF_angry', 'YAF_disgust', 'OAF_angry',\n",
              "       'YAF_angry', 'YAF_fear', 'YAF_happy', 'YAF_angry', 'OAF_neutral',\n",
              "       'YAF_fear', 'OAF_Pleasant_surprise', 'OAF_neutral', 'YAF_disgust',\n",
              "       'YAF_neutral', 'OAF_disgust', 'YAF_neutral', 'OAF_happy',\n",
              "       'OAF_happy', 'OAF_Pleasant_surprise', 'OAF_disgust', 'OAF_Sad',\n",
              "       'OAF_Fear', 'OAF_angry', 'OAF_Fear', 'YAF_pleasant_surprised',\n",
              "       'OAF_Fear', 'OAF_Sad', 'YAF_happy', 'OAF_disgust',\n",
              "       'YAF_pleasant_surprised', 'YAF_happy', 'OAF_Sad', 'YAF_happy',\n",
              "       'YAF_happy', 'YAF_pleasant_surprised', 'OAF_Pleasant_surprise',\n",
              "       'YAF_sad', 'YAF_pleasant_surprised', 'YAF_disgust', 'OAF_disgust',\n",
              "       'OAF_disgust', 'OAF_neutral', 'YAF_fear', 'OAF_Pleasant_surprise',\n",
              "       'OAF_Fear', 'YAF_neutral', 'OAF_disgust', 'YAF_pleasant_surprised',\n",
              "       'OAF_Sad', 'OAF_Sad', 'YAF_happy', 'YAF_happy',\n",
              "       'YAF_pleasant_surprised', 'YAF_happy', 'OAF_angry',\n",
              "       'OAF_Pleasant_surprise', 'YAF_angry', 'YAF_sad', 'OAF_angry',\n",
              "       'OAF_Fear', 'OAF_Fear', 'YAF_sad', 'YAF_pleasant_surprised',\n",
              "       'YAF_disgust', 'YAF_happy', 'OAF_disgust', 'OAF_neutral',\n",
              "       'OAF_neutral', 'OAF_Sad', 'OAF_happy', 'YAF_happy', 'YAF_sad',\n",
              "       'YAF_pleasant_surprised', 'OAF_happy', 'YAF_disgust',\n",
              "       'OAF_Pleasant_surprise', 'OAF_disgust', 'YAF_angry', 'YAF_happy',\n",
              "       'OAF_Pleasant_surprise', 'OAF_happy', 'YAF_sad', 'YAF_neutral',\n",
              "       'OAF_neutral', 'YAF_angry', 'YAF_happy', 'YAF_happy', 'YAF_angry',\n",
              "       'OAF_angry', 'OAF_angry', 'OAF_happy', 'OAF_angry', 'OAF_angry',\n",
              "       'OAF_Sad', 'OAF_Sad', 'OAF_Pleasant_surprise', 'OAF_Fear',\n",
              "       'OAF_neutral', 'OAF_happy', 'YAF_disgust',\n",
              "       'YAF_pleasant_surprised', 'YAF_angry', 'YAF_disgust',\n",
              "       'OAF_Pleasant_surprise', 'OAF_Fear', 'OAF_Fear', 'OAF_happy',\n",
              "       'YAF_fear', 'OAF_happy', 'OAF_happy', 'YAF_angry', 'OAF_Fear',\n",
              "       'OAF_Sad', 'YAF_angry', 'YAF_neutral', 'YAF_angry', 'YAF_disgust',\n",
              "       'YAF_disgust', 'YAF_fear', 'YAF_happy', 'OAF_happy', 'YAF_neutral',\n",
              "       'OAF_Sad', 'YAF_angry', 'OAF_Pleasant_surprise', 'YAF_disgust',\n",
              "       'YAF_neutral', 'YAF_sad', 'OAF_happy', 'YAF_angry', 'YAF_neutral',\n",
              "       'OAF_Sad', 'YAF_pleasant_surprised', 'OAF_disgust', 'OAF_Sad',\n",
              "       'OAF_Fear', 'OAF_Sad', 'OAF_angry', 'OAF_Fear', 'YAF_happy',\n",
              "       'YAF_happy', 'YAF_sad', 'YAF_disgust', 'YAF_fear', 'OAF_happy',\n",
              "       'YAF_pleasant_surprised', 'OAF_angry', 'OAF_disgust', 'YAF_fear',\n",
              "       'OAF_angry', 'OAF_Fear', 'YAF_fear', 'YAF_happy', 'YAF_fear',\n",
              "       'YAF_neutral', 'OAF_Fear', 'OAF_Sad', 'YAF_happy', 'YAF_fear',\n",
              "       'YAF_neutral', 'YAF_angry', 'YAF_angry', 'YAF_sad', 'OAF_Fear',\n",
              "       'YAF_fear', 'OAF_Fear', 'OAF_Pleasant_surprise', 'YAF_fear',\n",
              "       'YAF_angry', 'YAF_happy', 'YAF_happy', 'OAF_happy', 'OAF_Sad',\n",
              "       'YAF_neutral', 'OAF_Fear', 'YAF_happy', 'OAF_disgust', 'OAF_Fear',\n",
              "       'YAF_sad', 'YAF_disgust', 'YAF_disgust', 'OAF_happy', 'YAF_happy',\n",
              "       'OAF_Pleasant_surprise', 'OAF_Sad', 'YAF_pleasant_surprised',\n",
              "       'OAF_Sad', 'YAF_pleasant_surprised', 'OAF_Fear', 'YAF_disgust',\n",
              "       'YAF_happy', 'OAF_happy', 'OAF_Sad', 'OAF_neutral', 'YAF_sad',\n",
              "       'OAF_disgust', 'YAF_fear', 'YAF_neutral', 'YAF_pleasant_surprised',\n",
              "       'OAF_angry', 'OAF_disgust', 'OAF_disgust', 'OAF_angry',\n",
              "       'YAF_pleasant_surprised', 'OAF_Pleasant_surprise', 'OAF_angry',\n",
              "       'OAF_Fear', 'OAF_Pleasant_surprise', 'OAF_Pleasant_surprise',\n",
              "       'OAF_Pleasant_surprise', 'OAF_neutral', 'YAF_neutral',\n",
              "       'YAF_disgust', 'YAF_disgust', 'OAF_Fear', 'OAF_neutral',\n",
              "       'OAF_angry', 'YAF_happy', 'OAF_Fear', 'OAF_angry', 'OAF_happy',\n",
              "       'YAF_happy', 'YAF_pleasant_surprised', 'YAF_sad', 'YAF_neutral',\n",
              "       'OAF_happy', 'YAF_neutral', 'OAF_neutral', 'OAF_angry',\n",
              "       'OAF_angry', 'OAF_happy', 'OAF_disgust', 'OAF_Sad', 'OAF_Sad',\n",
              "       'YAF_fear', 'YAF_disgust', 'YAF_happy', 'OAF_disgust', 'YAF_sad',\n",
              "       'YAF_pleasant_surprised', 'OAF_neutral', 'YAF_angry', 'OAF_Sad',\n",
              "       'YAF_pleasant_surprised', 'OAF_neutral', 'YAF_sad', 'YAF_disgust',\n",
              "       'YAF_happy', 'YAF_angry', 'YAF_sad', 'YAF_disgust', 'OAF_neutral',\n",
              "       'OAF_Sad', 'YAF_angry', 'YAF_pleasant_surprised', 'YAF_angry',\n",
              "       'OAF_Fear', 'OAF_Pleasant_surprise', 'OAF_disgust', 'YAF_disgust',\n",
              "       'OAF_Sad', 'OAF_angry', 'YAF_disgust', 'OAF_disgust',\n",
              "       'YAF_disgust', 'OAF_angry', 'OAF_Sad', 'OAF_Sad', 'OAF_disgust',\n",
              "       'OAF_Sad', 'OAF_neutral', 'YAF_disgust', 'OAF_Pleasant_surprise',\n",
              "       'YAF_happy', 'OAF_disgust', 'OAF_disgust', 'OAF_angry',\n",
              "       'YAF_neutral', 'YAF_happy', 'OAF_Sad', 'OAF_Sad', 'YAF_disgust',\n",
              "       'OAF_Fear', 'YAF_pleasant_surprised', 'OAF_Pleasant_surprise',\n",
              "       'YAF_pleasant_surprised', 'OAF_disgust', 'YAF_neutral', 'OAF_Fear',\n",
              "       'YAF_sad', 'OAF_Fear', 'YAF_happy', 'YAF_pleasant_surprised',\n",
              "       'OAF_neutral', 'YAF_angry', 'OAF_angry', 'OAF_Pleasant_surprise',\n",
              "       'OAF_neutral', 'YAF_pleasant_surprised', 'YAF_pleasant_surprised',\n",
              "       'OAF_angry', 'YAF_sad', 'YAF_pleasant_surprised', 'YAF_disgust',\n",
              "       'OAF_disgust', 'OAF_Sad', 'OAF_Sad', 'YAF_neutral', 'YAF_angry',\n",
              "       'OAF_disgust', 'YAF_fear', 'YAF_happy', 'YAF_fear', 'YAF_sad',\n",
              "       'YAF_angry', 'YAF_fear', 'OAF_happy', 'OAF_Sad', 'YAF_sad',\n",
              "       'OAF_neutral', 'OAF_disgust', 'OAF_disgust', 'OAF_neutral',\n",
              "       'OAF_Fear', 'OAF_Pleasant_surprise', 'YAF_sad', 'OAF_Fear',\n",
              "       'OAF_disgust', 'YAF_sad', 'OAF_neutral', 'OAF_happy',\n",
              "       'YAF_neutral', 'YAF_neutral', 'OAF_neutral', 'YAF_sad',\n",
              "       'OAF_neutral', 'YAF_disgust', 'OAF_Pleasant_surprise', 'OAF_Fear',\n",
              "       'OAF_Sad', 'YAF_happy', 'OAF_Sad', 'OAF_disgust', 'YAF_sad',\n",
              "       'YAF_disgust', 'YAF_happy', 'YAF_pleasant_surprised',\n",
              "       'OAF_neutral', 'YAF_angry', 'OAF_angry', 'OAF_disgust',\n",
              "       'YAF_neutral', 'OAF_Sad', 'YAF_pleasant_surprised',\n",
              "       'OAF_Pleasant_surprise', 'OAF_Pleasant_surprise',\n",
              "       'OAF_Pleasant_surprise', 'OAF_happy', 'YAF_angry', 'OAF_Fear',\n",
              "       'YAF_sad', 'YAF_sad', 'OAF_Fear', 'YAF_happy', 'YAF_fear',\n",
              "       'OAF_neutral', 'YAF_fear', 'OAF_neutral', 'YAF_angry', 'OAF_happy',\n",
              "       'OAF_Fear'], dtype=object)"
            ]
          },
          "metadata": {},
          "execution_count": 28
        }
      ]
    },
    {
      "cell_type": "code",
      "source": [
        "accuracy = accuracy_score(y_test,y_pred)\n",
        "print(\"Akurasi:\",accuracy)"
      ],
      "metadata": {
        "colab": {
          "base_uri": "https://localhost:8080/"
        },
        "id": "Cn9eOGXR1Zl5",
        "outputId": "0340bf24-d918-4366-b208-d79a14d2fae2"
      },
      "execution_count": 29,
      "outputs": [
        {
          "output_type": "stream",
          "name": "stdout",
          "text": [
            "Akurasi: 0.6932624113475178\n"
          ]
        }
      ]
    },
    {
      "cell_type": "code",
      "source": [
        "dump(knn, open('modelknn.pkl', 'wb'))"
      ],
      "metadata": {
        "id": "g3nDJzuq1dzy"
      },
      "execution_count": 30,
      "outputs": []
    },
    {
      "cell_type": "markdown",
      "source": [
        "# **REDUKSI DATA**"
      ],
      "metadata": {
        "id": "59KZSVFJ1iSx"
      }
    },
    {
      "cell_type": "markdown",
      "source": [
        "Reduksi ada 2 jenis bisa menggunakan seleksi data atau transformation data (contoh nya PCA / Principal component anlysis).\n",
        "seleksi data kita dapat emmilih fitur berdasarkan yang fitur/ kolom yang paling berpengaruh.\n",
        "sedangkan transformasi data kita perlu membuat kooordinat baru dari dari fitur yang ada sejumlah dengan jumlah fitur nya.\n",
        "mengapa reduksi data atau data reduction di perlukan?\n",
        "karna terlalu banyak kolom/fitur/ciri yang harus dikenali tidak baik untuk pemprosesan data dan memakan waktu komputasi yang lama, maka dari itu reduksi data di lakukan untuk mendapatkan data yang terbaik.\n",
        "ketika ingin mencari koordinat baru:\n",
        "1. buat matriks covarian\n",
        "2. buat persamaan\n",
        "\n",
        "note : konstanta yang paling besar mengartikan di koordinat tersebut merupakan ciri paling banyak atau penting"
      ],
      "metadata": {
        "id": "KvUAvq1T3XlN"
      }
    },
    {
      "cell_type": "code",
      "source": [
        "from sklearn.decomposition import PCA as sklearnPCA\n",
        "sklearn_pca = sklearnPCA(n_components=8)\n",
        "X_train_pca= sklearn_pca.fit_transform(X_train_scaled)\n",
        "type(X_train_pca)"
      ],
      "metadata": {
        "colab": {
          "base_uri": "https://localhost:8080/"
        },
        "id": "TaJFwLd31gHa",
        "outputId": "018ea3e5-ec23-44df-adce-f87709c7e75d"
      },
      "execution_count": 31,
      "outputs": [
        {
          "output_type": "execute_result",
          "data": {
            "text/plain": [
              "numpy.ndarray"
            ]
          },
          "metadata": {},
          "execution_count": 31
        }
      ]
    },
    {
      "cell_type": "code",
      "source": [
        "dump(sklearn_pca, open('PCA1.pkl', 'wb'))"
      ],
      "metadata": {
        "id": "BCt2jh7z1nbo"
      },
      "execution_count": 32,
      "outputs": []
    },
    {
      "cell_type": "code",
      "source": [
        "import pickle\n",
        "with open('PCA1.pkl', 'rb') as pca:\n",
        "    loadpca= pickle.load(pca)"
      ],
      "metadata": {
        "id": "E9Jz3-sN1q-J"
      },
      "execution_count": 34,
      "outputs": []
    },
    {
      "cell_type": "code",
      "source": [
        "X_test_pca=loadpca.transform(X_test_scaled)\n",
        "X_test_pca.shape"
      ],
      "metadata": {
        "colab": {
          "base_uri": "https://localhost:8080/"
        },
        "id": "H-5_6inF1tSu",
        "outputId": "09c7c0c8-d1b9-4eef-85f5-c4b85483c6f8"
      },
      "execution_count": 35,
      "outputs": [
        {
          "output_type": "execute_result",
          "data": {
            "text/plain": [
              "(564, 8)"
            ]
          },
          "metadata": {},
          "execution_count": 35
        }
      ]
    },
    {
      "cell_type": "code",
      "source": [
        "from sklearn.neighbors import KNeighborsClassifier\n",
        "classifier = KNeighborsClassifier(n_neighbors=15)\n",
        "classifier.fit(X_train_pca, y_train)"
      ],
      "metadata": {
        "colab": {
          "base_uri": "https://localhost:8080/",
          "height": 75
        },
        "id": "jJvpQ_Hj1xGY",
        "outputId": "607ad149-98c8-4b4e-ef10-60644537e33a"
      },
      "execution_count": 36,
      "outputs": [
        {
          "output_type": "execute_result",
          "data": {
            "text/plain": [
              "KNeighborsClassifier(n_neighbors=15)"
            ],
            "text/html": [
              "<style>#sk-container-id-3 {color: black;background-color: white;}#sk-container-id-3 pre{padding: 0;}#sk-container-id-3 div.sk-toggleable {background-color: white;}#sk-container-id-3 label.sk-toggleable__label {cursor: pointer;display: block;width: 100%;margin-bottom: 0;padding: 0.3em;box-sizing: border-box;text-align: center;}#sk-container-id-3 label.sk-toggleable__label-arrow:before {content: \"▸\";float: left;margin-right: 0.25em;color: #696969;}#sk-container-id-3 label.sk-toggleable__label-arrow:hover:before {color: black;}#sk-container-id-3 div.sk-estimator:hover label.sk-toggleable__label-arrow:before {color: black;}#sk-container-id-3 div.sk-toggleable__content {max-height: 0;max-width: 0;overflow: hidden;text-align: left;background-color: #f0f8ff;}#sk-container-id-3 div.sk-toggleable__content pre {margin: 0.2em;color: black;border-radius: 0.25em;background-color: #f0f8ff;}#sk-container-id-3 input.sk-toggleable__control:checked~div.sk-toggleable__content {max-height: 200px;max-width: 100%;overflow: auto;}#sk-container-id-3 input.sk-toggleable__control:checked~label.sk-toggleable__label-arrow:before {content: \"▾\";}#sk-container-id-3 div.sk-estimator input.sk-toggleable__control:checked~label.sk-toggleable__label {background-color: #d4ebff;}#sk-container-id-3 div.sk-label input.sk-toggleable__control:checked~label.sk-toggleable__label {background-color: #d4ebff;}#sk-container-id-3 input.sk-hidden--visually {border: 0;clip: rect(1px 1px 1px 1px);clip: rect(1px, 1px, 1px, 1px);height: 1px;margin: -1px;overflow: hidden;padding: 0;position: absolute;width: 1px;}#sk-container-id-3 div.sk-estimator {font-family: monospace;background-color: #f0f8ff;border: 1px dotted black;border-radius: 0.25em;box-sizing: border-box;margin-bottom: 0.5em;}#sk-container-id-3 div.sk-estimator:hover {background-color: #d4ebff;}#sk-container-id-3 div.sk-parallel-item::after {content: \"\";width: 100%;border-bottom: 1px solid gray;flex-grow: 1;}#sk-container-id-3 div.sk-label:hover label.sk-toggleable__label {background-color: #d4ebff;}#sk-container-id-3 div.sk-serial::before {content: \"\";position: absolute;border-left: 1px solid gray;box-sizing: border-box;top: 0;bottom: 0;left: 50%;z-index: 0;}#sk-container-id-3 div.sk-serial {display: flex;flex-direction: column;align-items: center;background-color: white;padding-right: 0.2em;padding-left: 0.2em;position: relative;}#sk-container-id-3 div.sk-item {position: relative;z-index: 1;}#sk-container-id-3 div.sk-parallel {display: flex;align-items: stretch;justify-content: center;background-color: white;position: relative;}#sk-container-id-3 div.sk-item::before, #sk-container-id-3 div.sk-parallel-item::before {content: \"\";position: absolute;border-left: 1px solid gray;box-sizing: border-box;top: 0;bottom: 0;left: 50%;z-index: -1;}#sk-container-id-3 div.sk-parallel-item {display: flex;flex-direction: column;z-index: 1;position: relative;background-color: white;}#sk-container-id-3 div.sk-parallel-item:first-child::after {align-self: flex-end;width: 50%;}#sk-container-id-3 div.sk-parallel-item:last-child::after {align-self: flex-start;width: 50%;}#sk-container-id-3 div.sk-parallel-item:only-child::after {width: 0;}#sk-container-id-3 div.sk-dashed-wrapped {border: 1px dashed gray;margin: 0 0.4em 0.5em 0.4em;box-sizing: border-box;padding-bottom: 0.4em;background-color: white;}#sk-container-id-3 div.sk-label label {font-family: monospace;font-weight: bold;display: inline-block;line-height: 1.2em;}#sk-container-id-3 div.sk-label-container {text-align: center;}#sk-container-id-3 div.sk-container {/* jupyter's `normalize.less` sets `[hidden] { display: none; }` but bootstrap.min.css set `[hidden] { display: none !important; }` so we also need the `!important` here to be able to override the default hidden behavior on the sphinx rendered scikit-learn.org. See: https://github.com/scikit-learn/scikit-learn/issues/21755 */display: inline-block !important;position: relative;}#sk-container-id-3 div.sk-text-repr-fallback {display: none;}</style><div id=\"sk-container-id-3\" class=\"sk-top-container\"><div class=\"sk-text-repr-fallback\"><pre>KNeighborsClassifier(n_neighbors=15)</pre><b>In a Jupyter environment, please rerun this cell to show the HTML representation or trust the notebook. <br />On GitHub, the HTML representation is unable to render, please try loading this page with nbviewer.org.</b></div><div class=\"sk-container\" hidden><div class=\"sk-item\"><div class=\"sk-estimator sk-toggleable\"><input class=\"sk-toggleable__control sk-hidden--visually\" id=\"sk-estimator-id-3\" type=\"checkbox\" checked><label for=\"sk-estimator-id-3\" class=\"sk-toggleable__label sk-toggleable__label-arrow\">KNeighborsClassifier</label><div class=\"sk-toggleable__content\"><pre>KNeighborsClassifier(n_neighbors=15)</pre></div></div></div></div></div>"
            ]
          },
          "metadata": {},
          "execution_count": 36
        }
      ]
    },
    {
      "cell_type": "code",
      "source": [
        "y_prediksi = classifier.predict(X_test_pca)\n",
        "y_prediksi"
      ],
      "metadata": {
        "colab": {
          "base_uri": "https://localhost:8080/"
        },
        "id": "GuQQQGTh1zfR",
        "outputId": "de98c06d-3865-4a9c-8f63-564b85a4f0e5"
      },
      "execution_count": 37,
      "outputs": [
        {
          "output_type": "execute_result",
          "data": {
            "text/plain": [
              "array(['YAF_angry', 'YAF_fear', 'OAF_Pleasant_surprise', 'YAF_neutral',\n",
              "       'YAF_happy', 'YAF_sad', 'YAF_neutral', 'YAF_pleasant_surprised',\n",
              "       'YAF_happy', 'OAF_Sad', 'OAF_angry', 'OAF_angry', 'OAF_neutral',\n",
              "       'YAF_angry', 'YAF_pleasant_surprised', 'YAF_pleasant_surprised',\n",
              "       'YAF_disgust', 'YAF_sad', 'OAF_Sad', 'YAF_neutral', 'OAF_neutral',\n",
              "       'YAF_sad', 'OAF_Fear', 'YAF_disgust', 'OAF_disgust', 'YAF_happy',\n",
              "       'OAF_Pleasant_surprise', 'YAF_pleasant_surprised', 'OAF_neutral',\n",
              "       'OAF_angry', 'OAF_Pleasant_surprise', 'OAF_Fear', 'OAF_disgust',\n",
              "       'OAF_neutral', 'YAF_neutral', 'YAF_angry', 'YAF_disgust',\n",
              "       'OAF_Fear', 'YAF_neutral', 'YAF_fear', 'OAF_Pleasant_surprise',\n",
              "       'YAF_neutral', 'YAF_neutral', 'YAF_pleasant_surprised',\n",
              "       'YAF_disgust', 'OAF_angry', 'OAF_disgust', 'YAF_neutral',\n",
              "       'YAF_happy', 'YAF_fear', 'YAF_disgust', 'YAF_happy', 'YAF_sad',\n",
              "       'YAF_angry', 'YAF_fear', 'OAF_Pleasant_surprise', 'YAF_disgust',\n",
              "       'OAF_Pleasant_surprise', 'YAF_fear', 'YAF_happy', 'YAF_angry',\n",
              "       'OAF_Fear', 'YAF_angry', 'YAF_sad', 'OAF_Pleasant_surprise',\n",
              "       'OAF_Pleasant_surprise', 'OAF_Fear', 'YAF_sad', 'OAF_Fear',\n",
              "       'OAF_Fear', 'YAF_pleasant_surprised', 'OAF_happy', 'YAF_fear',\n",
              "       'OAF_disgust', 'OAF_disgust', 'YAF_pleasant_surprised', 'YAF_fear',\n",
              "       'YAF_disgust', 'YAF_disgust', 'OAF_Pleasant_surprise', 'YAF_angry',\n",
              "       'OAF_disgust', 'YAF_sad', 'OAF_neutral', 'OAF_disgust',\n",
              "       'OAF_disgust', 'OAF_neutral', 'YAF_neutral', 'YAF_happy',\n",
              "       'OAF_Sad', 'YAF_pleasant_surprised', 'OAF_Sad', 'YAF_happy',\n",
              "       'YAF_happy', 'YAF_pleasant_surprised', 'OAF_Sad', 'YAF_angry',\n",
              "       'YAF_neutral', 'YAF_sad', 'YAF_pleasant_surprised', 'OAF_Sad',\n",
              "       'YAF_sad', 'YAF_pleasant_surprised', 'YAF_fear', 'YAF_disgust',\n",
              "       'YAF_neutral', 'YAF_happy', 'YAF_happy', 'OAF_angry',\n",
              "       'OAF_disgust', 'OAF_angry', 'OAF_Pleasant_surprise',\n",
              "       'YAF_pleasant_surprised', 'OAF_Pleasant_surprise', 'OAF_angry',\n",
              "       'YAF_neutral', 'YAF_neutral', 'OAF_Fear', 'OAF_Fear', 'OAF_Sad',\n",
              "       'YAF_fear', 'OAF_happy', 'YAF_fear', 'OAF_disgust', 'OAF_happy',\n",
              "       'YAF_happy', 'OAF_disgust', 'OAF_neutral', 'OAF_neutral',\n",
              "       'OAF_Fear', 'OAF_angry', 'YAF_neutral', 'YAF_pleasant_surprised',\n",
              "       'OAF_disgust', 'OAF_neutral', 'OAF_neutral', 'OAF_Sad',\n",
              "       'OAF_neutral', 'YAF_sad', 'YAF_neutral', 'OAF_happy', 'YAF_fear',\n",
              "       'OAF_Pleasant_surprise', 'YAF_pleasant_surprised',\n",
              "       'YAF_pleasant_surprised', 'YAF_disgust', 'OAF_happy',\n",
              "       'OAF_neutral', 'OAF_Fear', 'OAF_Pleasant_surprise', 'YAF_happy',\n",
              "       'YAF_sad', 'YAF_disgust', 'OAF_Fear', 'OAF_angry', 'YAF_happy',\n",
              "       'OAF_Sad', 'YAF_pleasant_surprised', 'OAF_angry', 'YAF_fear',\n",
              "       'OAF_neutral', 'YAF_neutral', 'OAF_neutral', 'OAF_disgust',\n",
              "       'OAF_happy', 'OAF_neutral', 'YAF_happy', 'YAF_sad', 'YAF_happy',\n",
              "       'OAF_Fear', 'OAF_neutral', 'YAF_sad', 'YAF_neutral', 'YAF_disgust',\n",
              "       'OAF_Fear', 'OAF_Sad', 'OAF_Fear', 'OAF_Sad', 'YAF_disgust',\n",
              "       'OAF_happy', 'OAF_Pleasant_surprise', 'OAF_angry', 'OAF_angry',\n",
              "       'YAF_sad', 'OAF_disgust', 'OAF_disgust', 'YAF_angry', 'YAF_happy',\n",
              "       'OAF_angry', 'OAF_neutral', 'YAF_neutral', 'OAF_disgust',\n",
              "       'OAF_Pleasant_surprise', 'OAF_disgust', 'OAF_angry', 'YAF_disgust',\n",
              "       'OAF_angry', 'YAF_angry', 'YAF_fear', 'YAF_happy', 'YAF_angry',\n",
              "       'OAF_neutral', 'YAF_fear', 'OAF_Pleasant_surprise', 'OAF_neutral',\n",
              "       'YAF_disgust', 'YAF_neutral', 'OAF_disgust', 'YAF_neutral',\n",
              "       'OAF_happy', 'OAF_Pleasant_surprise', 'OAF_Fear', 'OAF_disgust',\n",
              "       'OAF_disgust', 'OAF_Fear', 'OAF_angry', 'OAF_happy',\n",
              "       'YAF_pleasant_surprised', 'OAF_Fear', 'OAF_Sad', 'YAF_happy',\n",
              "       'OAF_disgust', 'YAF_pleasant_surprised', 'YAF_happy', 'OAF_Sad',\n",
              "       'YAF_happy', 'YAF_happy', 'YAF_pleasant_surprised',\n",
              "       'OAF_Pleasant_surprise', 'YAF_sad', 'YAF_disgust', 'YAF_disgust',\n",
              "       'OAF_disgust', 'OAF_Pleasant_surprise', 'OAF_neutral', 'YAF_fear',\n",
              "       'OAF_happy', 'OAF_Pleasant_surprise', 'YAF_neutral', 'OAF_disgust',\n",
              "       'YAF_pleasant_surprised', 'OAF_Sad', 'OAF_Sad', 'YAF_happy',\n",
              "       'YAF_happy', 'YAF_disgust', 'YAF_happy', 'OAF_angry', 'OAF_Fear',\n",
              "       'YAF_angry', 'YAF_sad', 'OAF_angry', 'OAF_happy', 'OAF_angry',\n",
              "       'YAF_sad', 'YAF_pleasant_surprised', 'YAF_disgust', 'YAF_happy',\n",
              "       'OAF_disgust', 'OAF_neutral', 'OAF_neutral', 'OAF_Sad', 'OAF_Sad',\n",
              "       'YAF_happy', 'YAF_sad', 'YAF_pleasant_surprised', 'OAF_Sad',\n",
              "       'YAF_disgust', 'OAF_Pleasant_surprise', 'OAF_disgust', 'YAF_angry',\n",
              "       'YAF_happy', 'OAF_happy', 'OAF_happy', 'YAF_sad', 'YAF_neutral',\n",
              "       'OAF_neutral', 'YAF_angry', 'YAF_happy', 'YAF_happy', 'YAF_angry',\n",
              "       'OAF_angry', 'OAF_angry', 'OAF_Fear', 'OAF_angry',\n",
              "       'OAF_Pleasant_surprise', 'OAF_happy', 'OAF_Sad',\n",
              "       'OAF_Pleasant_surprise', 'OAF_Fear', 'OAF_neutral', 'OAF_happy',\n",
              "       'YAF_disgust', 'YAF_pleasant_surprised', 'YAF_happy',\n",
              "       'YAF_disgust', 'OAF_Pleasant_surprise', 'OAF_Fear',\n",
              "       'OAF_Pleasant_surprise', 'OAF_happy', 'YAF_fear', 'OAF_happy',\n",
              "       'OAF_disgust', 'YAF_happy', 'OAF_neutral', 'OAF_Sad', 'YAF_angry',\n",
              "       'YAF_neutral', 'YAF_angry', 'YAF_disgust', 'YAF_disgust',\n",
              "       'YAF_fear', 'YAF_happy', 'OAF_happy', 'YAF_neutral', 'OAF_Sad',\n",
              "       'YAF_happy', 'OAF_Pleasant_surprise', 'YAF_disgust', 'YAF_neutral',\n",
              "       'YAF_neutral', 'OAF_happy', 'YAF_fear', 'YAF_neutral', 'OAF_Sad',\n",
              "       'YAF_pleasant_surprised', 'OAF_disgust', 'OAF_Sad', 'OAF_Fear',\n",
              "       'OAF_Sad', 'OAF_angry', 'OAF_Fear', 'YAF_happy', 'YAF_happy',\n",
              "       'YAF_sad', 'YAF_disgust', 'YAF_fear', 'OAF_disgust',\n",
              "       'YAF_pleasant_surprised', 'OAF_angry', 'OAF_disgust', 'YAF_fear',\n",
              "       'OAF_angry', 'OAF_Fear', 'YAF_fear', 'YAF_happy', 'YAF_fear',\n",
              "       'YAF_neutral', 'OAF_Fear', 'OAF_Sad', 'YAF_happy', 'YAF_happy',\n",
              "       'YAF_neutral', 'YAF_angry', 'YAF_angry', 'YAF_sad', 'OAF_happy',\n",
              "       'YAF_fear', 'OAF_Fear', 'OAF_Pleasant_surprise', 'YAF_fear',\n",
              "       'YAF_angry', 'YAF_happy', 'YAF_happy', 'OAF_disgust', 'OAF_Sad',\n",
              "       'YAF_neutral', 'OAF_disgust', 'YAF_happy', 'OAF_disgust',\n",
              "       'OAF_Fear', 'YAF_sad', 'YAF_disgust', 'YAF_disgust', 'OAF_happy',\n",
              "       'YAF_happy', 'OAF_Pleasant_surprise', 'OAF_Sad',\n",
              "       'YAF_pleasant_surprised', 'OAF_Sad', 'YAF_pleasant_surprised',\n",
              "       'OAF_Pleasant_surprise', 'YAF_disgust', 'YAF_happy', 'OAF_happy',\n",
              "       'OAF_Sad', 'OAF_neutral', 'YAF_sad', 'OAF_disgust', 'YAF_fear',\n",
              "       'YAF_neutral', 'YAF_pleasant_surprised', 'OAF_angry', 'OAF_Fear',\n",
              "       'OAF_disgust', 'OAF_angry', 'YAF_pleasant_surprised', 'OAF_Fear',\n",
              "       'OAF_angry', 'OAF_Fear', 'OAF_Pleasant_surprise', 'OAF_Fear',\n",
              "       'OAF_Fear', 'OAF_neutral', 'YAF_neutral', 'YAF_disgust',\n",
              "       'YAF_disgust', 'OAF_Fear', 'OAF_neutral', 'OAF_angry', 'YAF_happy',\n",
              "       'OAF_disgust', 'OAF_angry', 'OAF_happy', 'YAF_happy', 'YAF_angry',\n",
              "       'YAF_sad', 'YAF_neutral', 'OAF_Pleasant_surprise', 'YAF_neutral',\n",
              "       'OAF_neutral', 'OAF_angry', 'OAF_Fear', 'OAF_Pleasant_surprise',\n",
              "       'OAF_happy', 'OAF_Sad', 'OAF_Sad', 'YAF_fear', 'YAF_disgust',\n",
              "       'YAF_happy', 'OAF_disgust', 'YAF_sad', 'YAF_pleasant_surprised',\n",
              "       'OAF_neutral', 'YAF_angry', 'OAF_Sad', 'YAF_pleasant_surprised',\n",
              "       'OAF_neutral', 'YAF_sad', 'YAF_disgust', 'YAF_happy', 'YAF_angry',\n",
              "       'YAF_sad', 'YAF_disgust', 'OAF_neutral', 'OAF_Sad', 'YAF_angry',\n",
              "       'YAF_pleasant_surprised', 'YAF_fear', 'OAF_Fear',\n",
              "       'OAF_Pleasant_surprise', 'OAF_disgust', 'YAF_disgust', 'OAF_happy',\n",
              "       'OAF_angry', 'YAF_disgust', 'OAF_disgust', 'YAF_disgust',\n",
              "       'OAF_angry', 'OAF_Sad', 'OAF_Sad', 'OAF_disgust', 'OAF_Sad',\n",
              "       'OAF_neutral', 'YAF_disgust', 'OAF_Pleasant_surprise', 'YAF_happy',\n",
              "       'OAF_disgust', 'OAF_disgust', 'OAF_angry', 'YAF_neutral',\n",
              "       'YAF_happy', 'OAF_happy', 'OAF_Sad', 'YAF_disgust',\n",
              "       'OAF_Pleasant_surprise', 'YAF_pleasant_surprised',\n",
              "       'OAF_Pleasant_surprise', 'YAF_pleasant_surprised',\n",
              "       'OAF_Pleasant_surprise', 'YAF_neutral', 'OAF_Fear', 'YAF_sad',\n",
              "       'OAF_Fear', 'YAF_happy', 'YAF_pleasant_surprised', 'OAF_neutral',\n",
              "       'YAF_angry', 'OAF_angry', 'OAF_Pleasant_surprise', 'OAF_neutral',\n",
              "       'YAF_pleasant_surprised', 'YAF_pleasant_surprised', 'OAF_angry',\n",
              "       'YAF_sad', 'YAF_pleasant_surprised', 'YAF_disgust', 'OAF_disgust',\n",
              "       'OAF_disgust', 'OAF_Sad', 'YAF_neutral', 'YAF_angry',\n",
              "       'OAF_disgust', 'YAF_fear', 'YAF_happy', 'YAF_happy', 'YAF_sad',\n",
              "       'YAF_angry', 'YAF_angry', 'OAF_Fear', 'OAF_Sad', 'YAF_sad',\n",
              "       'OAF_neutral', 'OAF_disgust', 'OAF_disgust', 'OAF_neutral',\n",
              "       'OAF_Fear', 'OAF_Pleasant_surprise', 'YAF_sad', 'OAF_Fear',\n",
              "       'OAF_disgust', 'YAF_sad', 'OAF_neutral', 'OAF_happy',\n",
              "       'YAF_neutral', 'YAF_neutral', 'OAF_neutral', 'YAF_sad',\n",
              "       'OAF_neutral', 'YAF_pleasant_surprised', 'OAF_Pleasant_surprise',\n",
              "       'OAF_Fear', 'OAF_Sad', 'YAF_happy', 'OAF_Sad', 'OAF_disgust',\n",
              "       'YAF_sad', 'YAF_disgust', 'YAF_happy', 'YAF_pleasant_surprised',\n",
              "       'OAF_neutral', 'YAF_angry', 'OAF_angry', 'OAF_disgust',\n",
              "       'YAF_neutral', 'OAF_Sad', 'YAF_pleasant_surprised', 'OAF_Fear',\n",
              "       'OAF_disgust', 'OAF_Pleasant_surprise', 'OAF_happy', 'YAF_fear',\n",
              "       'OAF_Fear', 'YAF_neutral', 'YAF_sad', 'OAF_Pleasant_surprise',\n",
              "       'YAF_happy', 'YAF_sad', 'OAF_neutral', 'YAF_fear', 'OAF_neutral',\n",
              "       'YAF_angry', 'OAF_disgust', 'OAF_Fear'], dtype=object)"
            ]
          },
          "metadata": {},
          "execution_count": 37
        }
      ]
    },
    {
      "cell_type": "code",
      "source": [
        "acc_pca= accuracy_score(y_test,y_prediksi)\n",
        "print(\"Akurasi:\",acc_pca)"
      ],
      "metadata": {
        "colab": {
          "base_uri": "https://localhost:8080/"
        },
        "id": "oc_AhlM811v3",
        "outputId": "7633a31b-b30d-4fde-9a90-0f59cde82cb6"
      },
      "execution_count": 38,
      "outputs": [
        {
          "output_type": "stream",
          "name": "stdout",
          "text": [
            "Akurasi: 0.6861702127659575\n"
          ]
        }
      ]
    },
    {
      "cell_type": "code",
      "source": [],
      "metadata": {
        "id": "2HljVuDl164Z"
      },
      "execution_count": null,
      "outputs": []
    }
  ]
}